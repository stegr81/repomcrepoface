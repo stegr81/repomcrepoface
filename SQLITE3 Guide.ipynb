{
 "cells": [
  {
   "cell_type": "code",
   "execution_count": 3,
   "id": "a51c4b1f",
   "metadata": {},
   "outputs": [],
   "source": [
    "import os"
   ]
  },
  {
   "cell_type": "code",
   "execution_count": 1,
   "id": "14d232e5",
   "metadata": {},
   "outputs": [],
   "source": [
    "import sqlite3\n",
    "from sqlite3 import Error"
   ]
  },
  {
   "cell_type": "code",
   "execution_count": 2,
   "id": "eb7cd783",
   "metadata": {},
   "outputs": [],
   "source": [
    "def create_connection(path):\n",
    "    connection=None\n",
    "    try:\n",
    "        connection=sqlite3.connect(path)\n",
    "        print(\"connection to sqliteDB successful\")\n",
    "    except Error as e:\n",
    "        print(f\"The error '{e}' occurred\")\n",
    "        \n",
    "    return connection"
   ]
  },
  {
   "cell_type": "code",
   "execution_count": 8,
   "id": "a19f1023",
   "metadata": {},
   "outputs": [],
   "source": [
    "working_dir = \"C:\\\\Users\\\\user_name_goes_here\\\\Documents\\\\Python\"\n", 
    "db_obj = \"test.sqlite\""
   ]
  },
  {
   "cell_type": "code",
   "execution_count": 9,
   "id": "9760dd26",
   "metadata": {},
   "outputs": [
    {
     "name": "stdout",
     "output_type": "stream",
     "text": [
      "connection to sqliteDB successful\n"
     ]
    }
   ],
   "source": [
    "connection=create_connection(working_dir+db_obj)"
   ]
  },
  {
   "cell_type": "code",
   "execution_count": 30,
   "id": "b9f0b3c3",
   "metadata": {},
   "outputs": [],
   "source": [
    "def execute_query(query,connection=connection):\n",
    "    cursor = connection.cursor()\n",
    "    try:\n",
    "        cursor.execute(query)\n",
    "        connection.commit()\n",
    "        print(\"Query executed successfully\")\n",
    "    except Error as e:\n",
    "        print(f\"The error '{e}' occurred\")"
   ]
  },
  {
   "cell_type": "code",
   "execution_count": 35,
   "id": "26ac7e3d",
   "metadata": {},
   "outputs": [],
   "source": [
    "def execute_read_query(query, connection=connection):\n",
    "    cursor=connection.cursor()\n",
    "    result=None\n",
    "    try:\n",
    "        cursor.execute(query)\n",
    "        result=cursor.fetchall()\n",
    "        return result\n",
    "    except Error as e:\n",
    "        print(\"The error '{e}' occurred\")"
   ]
  },
  {
   "cell_type": "code",
   "execution_count": 17,
   "id": "80dccb81",
   "metadata": {},
   "outputs": [],
   "source": [
    "# the query to create a table with the following columns: id, name, age, gender, nationality\n",
    "\n",
    "create_users_table=\"\"\"\n",
    "CREATE TABLE IF NOT EXISTS users (\n",
    "id INTEGER PRIMARY KEY AUTOINCREMENT,\n",
    "name TEXT NOT NULL,\n",
    "age INTEGER,\n",
    "gender TEXT,\n",
    "nationality TEXT\n",
    ");\n",
    "\"\"\""
   ]
  },
  {
   "cell_type": "code",
   "execution_count": 18,
   "id": "66d60da9",
   "metadata": {},
   "outputs": [
    {
     "name": "stdout",
     "output_type": "stream",
     "text": [
      "Query executed successfully\n"
     ]
    }
   ],
   "source": [
    "execute_query(create_users_table)"
   ]
  },
  {
   "cell_type": "code",
   "execution_count": 22,
   "id": "e23073eb",
   "metadata": {},
   "outputs": [],
   "source": [
    "# the query creates the posts table\n",
    "create_posts_table=\"\"\"\n",
    "CREATE TABLE IF NOT EXISTS posts(\n",
    "id INTEGER PRIMARY KEY AUTOINCREMENT,\n",
    "title TEXT NOT NULL,\n",
    "description TEXT NOT NULL,\n",
    "user_id INTEGER NOT NULL,\n",
    "FOREIGN KEY (user_id) REFERENCES users (id)\n",
    ");\n",
    "\"\"\""
   ]
  },
  {
   "cell_type": "code",
   "execution_count": 23,
   "id": "644d6b05",
   "metadata": {},
   "outputs": [
    {
     "name": "stdout",
     "output_type": "stream",
     "text": [
      "Query executed successfully\n"
     ]
    }
   ],
   "source": [
    "execute_query(create_posts_table)"
   ]
  },
  {
   "cell_type": "code",
   "execution_count": 24,
   "id": "a7d3c009",
   "metadata": {},
   "outputs": [],
   "source": [
    "create_comments_table=\"\"\"\n",
    "CREATE TABLE IF NOT EXISTS comments(\n",
    "id INTEGER PRIMARY KEY AUTOINCREMENT,\n",
    "text TEXT NOT NULL,\n",
    "user_id INTEGER NOT NULL,\n",
    "post_id INTEGER NOT NULL,\n",
    "FOREIGN KEY (user_id) REFERENCES user (id) FOREIGN KEY (post_id) REFERENCES posts (id)\n",
    ");\n",
    "\"\"\"\n",
    "\n",
    "create_likes_table=\"\"\"\n",
    "CREATE TABLE IF NOT EXISTS likes(\n",
    "id INTEGER PRIMARY KEY AUTOINCREMENT,\n",
    "user_id INTEGER NOT NULL,\n",
    "post_id INTEGER NOT NULL,\n",
    "FOREIGN KEY (user_id) REFERENCES users (id) FOREIGN KEY (post_id) REFERENCES posts (id)\n",
    ");\n",
    "\"\"\""
   ]
  },
  {
   "cell_type": "code",
   "execution_count": 32,
   "id": "c418426d",
   "metadata": {},
   "outputs": [
    {
     "name": "stdout",
     "output_type": "stream",
     "text": [
      "Query executed successfully\n",
      "Query executed successfully\n"
     ]
    }
   ],
   "source": [
    "execute_query(create_comments_table)\n",
    "execute_query(create_likes_table)"
   ]
  },
  {
   "cell_type": "code",
   "execution_count": 33,
   "id": "5b526215",
   "metadata": {},
   "outputs": [],
   "source": [
    "create_users=\"\"\"\n",
    "INSERT INTO\n",
    "    users(name,age,gender,nationality)\n",
    "    \n",
    "VALUES\n",
    "    ('James',25,'male','USA'),\n",
    "    ('Leila',32,'female','France'),\n",
    "    ('Brigitte',35,'female','UK'),\n",
    "    ('Mike',40,'male','Denmark'),\n",
    "    ('Elizabeth',21,'female','Canada');\n",
    "\"\"\""
   ]
  },
  {
   "cell_type": "code",
   "execution_count": 34,
   "id": "e691f3cd",
   "metadata": {},
   "outputs": [
    {
     "name": "stdout",
     "output_type": "stream",
     "text": [
      "Query executed successfully\n"
     ]
    }
   ],
   "source": [
    "execute_query(create_users)"
   ]
  },
  {
   "cell_type": "code",
   "execution_count": 36,
   "id": "15f76bda",
   "metadata": {},
   "outputs": [
    {
     "data": {
      "text/plain": [
       "[(1, 'James', 25, 'male', 'USA'),\n",
       " (2, 'Leila', 32, 'female', 'France'),\n",
       " (3, 'Brigitte', 35, 'female', 'UK'),\n",
       " (4, 'Mike', 40, 'male', 'Denmark'),\n",
       " (5, 'Elizabeth', 21, 'female', 'Canada')]"
      ]
     },
     "execution_count": 36,
     "metadata": {},
     "output_type": "execute_result"
    }
   ],
   "source": [
    "execute_read_query(\"SELECT * FROM users\")"
   ]
  },
  {
   "cell_type": "code",
   "execution_count": 37,
   "id": "dcce554b",
   "metadata": {},
   "outputs": [],
   "source": [
    "create_posts=\"\"\"\n",
    "INSERT INTO\n",
    "    posts(title,description,user_id)\n",
    "VALUES\n",
    "    (\"Happy\", \"I am feeling very happy today\",1),\n",
    "    (\"Hot weather\", \"The weather is very hot today\", 2),\n",
    "    (\"Help\", \"I need some help with my work\",3),\n",
    "    (\"Getting it\", \"I think this is becoming clearer\",4),\n",
    "    (\"Interesting Game\",\"It was a great game of tennis\", 5),\n",
    "    (\"Party\",\"Anyone up for a party\", 3);\n",
    "\"\"\"\n",
    "# The user_id column of posts is a FOREIGN KEY and refers to a key in another table as set during creation, in this case\n",
    "# the user_id column must contain a value that already exists in the id column of users as this is the one we refer it to.\n",
    "\n",
    "# If this is not the case, an error will occur."
   ]
  },
  {
   "cell_type": "code",
   "execution_count": 39,
   "id": "8962c171",
   "metadata": {},
   "outputs": [
    {
     "name": "stdout",
     "output_type": "stream",
     "text": [
      "Query executed successfully\n"
     ]
    }
   ],
   "source": [
    "execute_query(create_posts)"
   ]
  },
  {
   "cell_type": "code",
   "execution_count": 41,
   "id": "1585bbe9",
   "metadata": {},
   "outputs": [
    {
     "data": {
      "text/plain": [
       "[(1, 'Happy', 'I am feeling very happy today', 1),\n",
       " (2, 'Hot weather', 'The weather is very hot today', 2),\n",
       " (3, 'Help', 'I need some help with my work', 3),\n",
       " (4, 'Getting it', 'I think this is becoming clearer', 4),\n",
       " (5, 'Interesting Game', 'It was a great game of tennis', 5),\n",
       " (6, 'Party', 'Anyone up for a party', 3)]"
      ]
     },
     "execution_count": 41,
     "metadata": {},
     "output_type": "execute_result"
    }
   ],
   "source": [
    "execute_read_query(\"SELECT * FROM posts\")"
   ]
  },
  {
   "cell_type": "code",
   "execution_count": 43,
   "id": "6853f8ea",
   "metadata": {},
   "outputs": [],
   "source": [
    "create_comments=\"\"\"\n",
    "INSERT INTO\n",
    "    comments(text,user_id, post_id)\n",
    "VALUES\n",
    "    ('Count me in', 1, 6),\n",
    "    ('What sort of help', 5, 3),\n",
    "    ('Congrats', 4, 4),\n",
    "    ('I was rooting for the other player', 4, 5),\n",
    "    ('Help with your thesis?', 2, 3);\n",
    "\"\"\"\n",
    "\n",
    "create_likes=\"\"\"\n",
    "INSERT INTO\n",
    "    likes(user_id,post_id)\n",
    "VALUES\n",
    "    (1,6),\n",
    "    (2,3),\n",
    "    (1,5),\n",
    "    (5,4),\n",
    "    (2,4),\n",
    "    (4,2),\n",
    "    (3,6);\n",
    "\n",
    "\"\"\""
   ]
  },
  {
   "cell_type": "code",
   "execution_count": 44,
   "id": "16da8600",
   "metadata": {},
   "outputs": [
    {
     "name": "stdout",
     "output_type": "stream",
     "text": [
      "Query executed successfully\n",
      "Query executed successfully\n"
     ]
    }
   ],
   "source": [
    "execute_query(create_comments)\n",
    "execute_query(create_likes)"
   ]
  },
  {
   "cell_type": "code",
   "execution_count": null,
   "id": "33dc8b6f",
   "metadata": {},
   "outputs": [],
   "source": [
    "# implementation of JOIN operations"
   ]
  },
  {
   "cell_type": "code",
   "execution_count": 49,
   "id": "8021363b",
   "metadata": {},
   "outputs": [],
   "source": [
    "select_user_posts=\"\"\"\n",
    "SELECT\n",
    "    users.id,\n",
    "    users.name,\n",
    "    posts.description\n",
    "FROM\n",
    "    posts\n",
    "    INNER JOIN  users ON users.id = posts.user_id\n",
    "\"\"\""
   ]
  },
  {
   "cell_type": "code",
   "execution_count": 50,
   "id": "d6824d44",
   "metadata": {},
   "outputs": [
    {
     "data": {
      "text/plain": [
       "[(1, 'James', 'I am feeling very happy today'),\n",
       " (2, 'Leila', 'The weather is very hot today'),\n",
       " (3, 'Brigitte', 'I need some help with my work'),\n",
       " (4, 'Mike', 'I think this is becoming clearer'),\n",
       " (5, 'Elizabeth', 'It was a great game of tennis'),\n",
       " (3, 'Brigitte', 'Anyone up for a party')]"
      ]
     },
     "execution_count": 50,
     "metadata": {},
     "output_type": "execute_result"
    }
   ],
   "source": [
    "execute_read_query(select_user_posts)"
   ]
  },
  {
   "cell_type": "code",
   "execution_count": 52,
   "id": "dd7ab793",
   "metadata": {},
   "outputs": [],
   "source": [
    "# multiple join functions\n",
    "\n",
    "select_posts_comments_users=\"\"\"\n",
    "SELECT\n",
    "    posts.description as post,\n",
    "    text as comment,\n",
    "    name\n",
    "FROM\n",
    "    posts\n",
    "    INNER JOIN comments ON posts.id = comments.post_id\n",
    "    INNER JOIN users ON users.id = comments.user_id\n",
    "\"\"\""
   ]
  },
  {
   "cell_type": "code",
   "execution_count": 53,
   "id": "634e2f8a",
   "metadata": {},
   "outputs": [
    {
     "data": {
      "text/plain": [
       "[('Anyone up for a party', 'Count me in', 'James'),\n",
       " ('I need some help with my work', 'What sort of help', 'Elizabeth'),\n",
       " ('I think this is becoming clearer', 'Congrats', 'Mike'),\n",
       " ('It was a great game of tennis',\n",
       "  'I was rooting for the other player',\n",
       "  'Mike'),\n",
       " ('I need some help with my work', 'Help with your thesis?', 'Leila')]"
      ]
     },
     "execution_count": 53,
     "metadata": {},
     "output_type": "execute_result"
    }
   ],
   "source": [
    "execute_read_query(select_posts_comments_users)"
   ]
  },
  {
   "cell_type": "code",
   "execution_count": null,
   "id": "6ec9435b",
   "metadata": {},
   "outputs": [],
   "source": [
    "# implementation of WHERE operations"
   ]
  },
  {
   "cell_type": "code",
   "execution_count": 57,
   "id": "3458f3f3",
   "metadata": {},
   "outputs": [],
   "source": [
    "select_posts_likes=\"\"\"\n",
    "SELECT\n",
    "    description as Post,\n",
    "    COUNT(likes.id) as Likes\n",
    "FROM\n",
    "    likes,\n",
    "    posts\n",
    "WHERE\n",
    "    posts.id=likes.post_id\n",
    "GROUP BY\n",
    "    likes.post_id\n",
    "\"\"\""
   ]
  },
  {
   "cell_type": "code",
   "execution_count": 58,
   "id": "8f52ec18",
   "metadata": {},
   "outputs": [
    {
     "data": {
      "text/plain": [
       "[('The weather is very hot today', 1),\n",
       " ('I need some help with my work', 1),\n",
       " ('I think this is becoming clearer', 2),\n",
       " ('It was a great game of tennis', 1),\n",
       " ('Anyone up for a party', 2)]"
      ]
     },
     "execution_count": 58,
     "metadata": {},
     "output_type": "execute_result"
    }
   ],
   "source": [
    "execute_read_query(select_posts_likes)"
   ]
  },
  {
   "cell_type": "code",
   "execution_count": null,
   "id": "a9df2d93",
   "metadata": {},
   "outputs": [],
   "source": []
  }
 ],
 "metadata": {
  "kernelspec": {
   "display_name": "Python 3 (ipykernel)",
   "language": "python",
   "name": "python3"
  },
  "language_info": {
   "codemirror_mode": {
    "name": "ipython",
    "version": 3
   },
   "file_extension": ".py",
   "mimetype": "text/x-python",
   "name": "python",
   "nbconvert_exporter": "python",
   "pygments_lexer": "ipython3",
   "version": "3.9.7"
  }
 },
 "nbformat": 4,
 "nbformat_minor": 5
}
