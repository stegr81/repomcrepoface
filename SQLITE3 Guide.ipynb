{
 "cells": [
  {
   "cell_type": "code",
   "execution_count": 1,
   "id": "c746a34b",
   "metadata": {},
   "outputs": [],
   "source": [
    "import os\n",
    "import sqlite3\n",
    "from sqlite3 import Error"
   ]
  },
  {
   "cell_type": "code",
   "execution_count": 2,
   "id": "de2cf789",
   "metadata": {},
   "outputs": [],
   "source": [
    "def create_connection(path):\n",
    "    connection=None\n",
    "    try:\n",
    "        connection=sqlite3.connect(path)\n",
    "        print(\"connection to sqliteDB successful\")\n",
    "    except Error as e:\n",
    "        print(f\"The error '{e}' occurred\")\n",
    "        \n",
    "    return connection"
   ]
  },
  {
   "cell_type": "code",
   "execution_count": 30,
   "id": "ab490bce",
   "metadata": {},
   "outputs": [],
   "source": [
    "def execute_query(query,connection=connection):\n",
    "    cursor = connection.cursor()\n",
    "    try:\n",
    "        cursor.execute(query)\n",
    "        connection.commit()\n",
    "        print(\"Query executed successfully\")\n",
    "    except Error as e:\n",
    "        print(f\"The error '{e}' occurred\")"
   ]
  },
  {
   "cell_type": "code",
   "execution_count": 35,
   "id": "c6e4bea0",
   "metadata": {},
   "outputs": [],
   "source": [
    "def execute_read_query(query, connection=connection):\n",
    "    cursor=connection.cursor()\n",
    "    result=None\n",
    "    try:\n",
    "        cursor.execute(query)\n",
    "        result=cursor.fetchall()\n",
    "        return result\n",
    "    except Error as e:\n",
    "        print(\"The error '{e}' occurred\")"
   ]
  },
  {
   "cell_type": "code",
   "execution_count": 8,
   "id": "18375250",
   "metadata": {},
   "outputs": [],
   "source": [
    "working_dir = \"C:\\\\Users\\\\saman\\\\Documents\\\\Python\"\n",
    "db_obj = \"test.sqlite\""
   ]
  },
  {
   "cell_type": "code",
   "execution_count": 9,
   "id": "4ae25221",
   "metadata": {},
   "outputs": [
    {
     "name": "stdout",
     "output_type": "stream",
     "text": [
      "connection to sqliteDB successful\n"
     ]
    }
   ],
   "source": [
    "connection=create_connection(working_dir+db_obj)"
   ]
  },
  {
   "cell_type": "code",
   "execution_count": 17,
   "id": "1e5b998b",
   "metadata": {},
   "outputs": [],
   "source": [
    "# the query to create a table with the following columns: id, name, age, gender, nationality\n",
    "\n",
    "create_users_table=\"\"\"\n",
    "CREATE TABLE IF NOT EXISTS users (\n",
    "id INTEGER PRIMARY KEY AUTOINCREMENT,\n",
    "name TEXT NOT NULL,\n",
    "age INTEGER,\n",
    "gender TEXT,\n",
    "nationality TEXT\n",
    ");\n",
    "\"\"\""
   ]
  },
  {
   "cell_type": "code",
   "execution_count": 18,
   "id": "a2dcdb90",
   "metadata": {},
   "outputs": [
    {
     "name": "stdout",
     "output_type": "stream",
     "text": [
      "Query executed successfully\n"
     ]
    }
   ],
   "source": [
    "execute_query(create_users_table)"
   ]
  },
  {
   "cell_type": "code",
   "execution_count": 22,
   "id": "63b73ba6",
   "metadata": {},
   "outputs": [],
   "source": [
    "# the query creates the posts table\n",
    "create_posts_table=\"\"\"\n",
    "CREATE TABLE IF NOT EXISTS posts(\n",
    "id INTEGER PRIMARY KEY AUTOINCREMENT,\n",
    "title TEXT NOT NULL,\n",
    "description TEXT NOT NULL,\n",
    "user_id INTEGER NOT NULL,\n",
    "FOREIGN KEY (user_id) REFERENCES users (id)\n",
    ");\n",
    "\"\"\""
   ]
  },
  {
   "cell_type": "code",
   "execution_count": 23,
   "id": "07b55688",
   "metadata": {},
   "outputs": [
    {
     "name": "stdout",
     "output_type": "stream",
     "text": [
      "Query executed successfully\n"
     ]
    }
   ],
   "source": [
    "execute_query(create_posts_table)"
   ]
  },
  {
   "cell_type": "code",
   "execution_count": 24,
   "id": "e8ad1bbb",
   "metadata": {},
   "outputs": [],
   "source": [
    "create_comments_table=\"\"\"\n",
    "CREATE TABLE IF NOT EXISTS comments(\n",
    "id INTEGER PRIMARY KEY AUTOINCREMENT,\n",
    "text TEXT NOT NULL,\n",
    "user_id INTEGER NOT NULL,\n",
    "post_id INTEGER NOT NULL,\n",
    "FOREIGN KEY (user_id) REFERENCES user (id) FOREIGN KEY (post_id) REFERENCES posts (id)\n",
    ");\n",
    "\"\"\"\n",
    "\n",
    "create_likes_table=\"\"\"\n",
    "CREATE TABLE IF NOT EXISTS likes(\n",
    "id INTEGER PRIMARY KEY AUTOINCREMENT,\n",
    "user_id INTEGER NOT NULL,\n",
    "post_id INTEGER NOT NULL,\n",
    "FOREIGN KEY (user_id) REFERENCES users (id) FOREIGN KEY (post_id) REFERENCES posts (id)\n",
    ");\n",
    "\"\"\""
   ]
  },
  {
   "cell_type": "code",
   "execution_count": 32,
   "id": "9668bf39",
   "metadata": {},
   "outputs": [
    {
     "name": "stdout",
     "output_type": "stream",
     "text": [
      "Query executed successfully\n",
      "Query executed successfully\n"
     ]
    }
   ],
   "source": [
    "execute_query(create_comments_table)\n",
    "execute_query(create_likes_table)"
   ]
  },
  {
   "cell_type": "code",
   "execution_count": 33,
   "id": "3ceb936c",
   "metadata": {},
   "outputs": [],
   "source": [
    "create_users=\"\"\"\n",
    "INSERT INTO\n",
    "    users(name,age,gender,nationality)\n",
    "    \n",
    "VALUES\n",
    "    ('James',25,'male','USA'),\n",
    "    ('Leila',32,'female','France'),\n",
    "    ('Brigitte',35,'female','UK'),\n",
    "    ('Mike',40,'male','Denmark'),\n",
    "    ('Elizabeth',21,'female','Canada');\n",
    "\"\"\""
   ]
  },
  {
   "cell_type": "code",
   "execution_count": 34,
   "id": "0c316937",
   "metadata": {},
   "outputs": [
    {
     "name": "stdout",
     "output_type": "stream",
     "text": [
      "Query executed successfully\n"
     ]
    }
   ],
   "source": [
    "execute_query(create_users)"
   ]
  },
  {
   "cell_type": "code",
   "execution_count": 36,
   "id": "cba7fd06",
   "metadata": {},
   "outputs": [
    {
     "data": {
      "text/plain": [
       "[(1, 'James', 25, 'male', 'USA'),\n",
       " (2, 'Leila', 32, 'female', 'France'),\n",
       " (3, 'Brigitte', 35, 'female', 'UK'),\n",
       " (4, 'Mike', 40, 'male', 'Denmark'),\n",
       " (5, 'Elizabeth', 21, 'female', 'Canada')]"
      ]
     },
     "execution_count": 36,
     "metadata": {},
     "output_type": "execute_result"
    }
   ],
   "source": [
    "execute_read_query(\"SELECT * FROM users\")"
   ]
  },
  {
   "cell_type": "code",
   "execution_count": 37,
   "id": "84f5e8f4",
   "metadata": {},
   "outputs": [],
   "source": [
    "create_posts=\"\"\"\n",
    "INSERT INTO\n",
    "    posts(title,description,user_id)\n",
    "VALUES\n",
    "    (\"Happy\", \"I am feeling very happy today\",1),\n",
    "    (\"Hot weather\", \"The weather is very hot today\", 2),\n",
    "    (\"Help\", \"I need some help with my work\",3),\n",
    "    (\"Getting it\", \"I think this is becoming clearer\",4),\n",
    "    (\"Interesting Game\",\"It was a great game of tennis\", 5),\n",
    "    (\"Party\",\"Anyone up for a party\", 3);\n",
    "\"\"\"\n",
    "# The user_id column of posts is a FOREIGN KEY and refers to a key in another table as set during creation, in this case\n",
    "# the user_id column must contain a value that already exists in the id column of users as this is the one we refer it to.\n",
    "\n",
    "# If this is not the case, an error will occur."
   ]
  },
  {
   "cell_type": "code",
   "execution_count": 39,
   "id": "ac6f1571",
   "metadata": {},
   "outputs": [
    {
     "name": "stdout",
     "output_type": "stream",
     "text": [
      "Query executed successfully\n"
     ]
    }
   ],
   "source": [
    "execute_query(create_posts)"
   ]
  },
  {
   "cell_type": "code",
   "execution_count": 41,
   "id": "f6de91ac",
   "metadata": {},
   "outputs": [
    {
     "data": {
      "text/plain": [
       "[(1, 'Happy', 'I am feeling very happy today', 1),\n",
       " (2, 'Hot weather', 'The weather is very hot today', 2),\n",
       " (3, 'Help', 'I need some help with my work', 3),\n",
       " (4, 'Getting it', 'I think this is becoming clearer', 4),\n",
       " (5, 'Interesting Game', 'It was a great game of tennis', 5),\n",
       " (6, 'Party', 'Anyone up for a party', 3)]"
      ]
     },
     "execution_count": 41,
     "metadata": {},
     "output_type": "execute_result"
    }
   ],
   "source": [
    "execute_read_query(\"SELECT * FROM posts\")"
   ]
  },
  {
   "cell_type": "code",
   "execution_count": 43,
   "id": "eb881534",
   "metadata": {},
   "outputs": [],
   "source": [
    "create_comments=\"\"\"\n",
    "INSERT INTO\n",
    "    comments(text,user_id, post_id)\n",
    "VALUES\n",
    "    ('Count me in', 1, 6),\n",
    "    ('What sort of help', 5, 3),\n",
    "    ('Congrats', 4, 4),\n",
    "    ('I was rooting for the other player', 4, 5),\n",
    "    ('Help with your thesis?', 2, 3);\n",
    "\"\"\"\n",
    "\n",
    "create_likes=\"\"\"\n",
    "INSERT INTO\n",
    "    likes(user_id,post_id)\n",
    "VALUES\n",
    "    (1,6),\n",
    "    (2,3),\n",
    "    (1,5),\n",
    "    (5,4),\n",
    "    (2,4),\n",
    "    (4,2),\n",
    "    (3,6);\n",
    "\n",
    "\"\"\""
   ]
  },
  {
   "cell_type": "code",
   "execution_count": 44,
   "id": "e72fe59b",
   "metadata": {},
   "outputs": [
    {
     "name": "stdout",
     "output_type": "stream",
     "text": [
      "Query executed successfully\n",
      "Query executed successfully\n"
     ]
    }
   ],
   "source": [
    "execute_query(create_comments)\n",
    "execute_query(create_likes)"
   ]
  },
  {
   "cell_type": "code",
   "execution_count": null,
   "id": "bd300b85",
   "metadata": {},
   "outputs": [],
   "source": [
    "# implementation of JOIN operations"
   ]
  },
  {
   "cell_type": "code",
   "execution_count": 49,
   "id": "075594e3",
   "metadata": {},
   "outputs": [],
   "source": [
    "select_user_posts=\"\"\"\n",
    "SELECT\n",
    "    users.id,\n",
    "    users.name,\n",
    "    posts.description\n",
    "FROM\n",
    "    posts\n",
    "    INNER JOIN  users ON users.id = posts.user_id\n",
    "\"\"\""
   ]
  },
  {
   "cell_type": "code",
   "execution_count": 50,
   "id": "607a3a3f",
   "metadata": {},
   "outputs": [
    {
     "data": {
      "text/plain": [
       "[(1, 'James', 'I am feeling very happy today'),\n",
       " (2, 'Leila', 'The weather is very hot today'),\n",
       " (3, 'Brigitte', 'I need some help with my work'),\n",
       " (4, 'Mike', 'I think this is becoming clearer'),\n",
       " (5, 'Elizabeth', 'It was a great game of tennis'),\n",
       " (3, 'Brigitte', 'Anyone up for a party')]"
      ]
     },
     "execution_count": 50,
     "metadata": {},
     "output_type": "execute_result"
    }
   ],
   "source": [
    "execute_read_query(select_user_posts)"
   ]
  },
  {
   "cell_type": "code",
   "execution_count": 52,
   "id": "0fd34fdb",
   "metadata": {},
   "outputs": [],
   "source": [
    "# multiple join functions\n",
    "\n",
    "select_posts_comments_users=\"\"\"\n",
    "SELECT\n",
    "    posts.description as post,\n",
    "    text as comment,\n",
    "    name\n",
    "FROM\n",
    "    posts\n",
    "    INNER JOIN comments ON posts.id = comments.post_id\n",
    "    INNER JOIN users ON users.id = comments.user_id\n",
    "\"\"\""
   ]
  },
  {
   "cell_type": "code",
   "execution_count": 53,
   "id": "2a300f6b",
   "metadata": {},
   "outputs": [
    {
     "data": {
      "text/plain": [
       "[('Anyone up for a party', 'Count me in', 'James'),\n",
       " ('I need some help with my work', 'What sort of help', 'Elizabeth'),\n",
       " ('I think this is becoming clearer', 'Congrats', 'Mike'),\n",
       " ('It was a great game of tennis',\n",
       "  'I was rooting for the other player',\n",
       "  'Mike'),\n",
       " ('I need some help with my work', 'Help with your thesis?', 'Leila')]"
      ]
     },
     "execution_count": 53,
     "metadata": {},
     "output_type": "execute_result"
    }
   ],
   "source": [
    "execute_read_query(select_posts_comments_users)"
   ]
  },
  {
   "cell_type": "code",
   "execution_count": 65,
   "id": "5e671c7a",
   "metadata": {},
   "outputs": [],
   "source": [
    "# The column names are not being returned by the .fetchall() function. To return column names you can use description\n",
    "# attribute of the cursor"
   ]
  },
  {
   "cell_type": "code",
   "execution_count": 68,
   "id": "9643a1be",
   "metadata": {},
   "outputs": [
    {
     "name": "stdout",
     "output_type": "stream",
     "text": [
      "['post', 'comment', 'name']\n"
     ]
    }
   ],
   "source": [
    "cursor=connection.cursor()\n",
    "cursor.execute(select_posts_comments_users)\n",
    "cursor.fetchall()\n",
    "\n",
    "column_names = [description[0] for description in cursor.description]\n",
    "print(column_names)"
   ]
  },
  {
   "cell_type": "code",
   "execution_count": null,
   "id": "996d5221",
   "metadata": {},
   "outputs": [],
   "source": [
    "# implementation of WHERE operations"
   ]
  },
  {
   "cell_type": "code",
   "execution_count": 57,
   "id": "d80ff4d0",
   "metadata": {},
   "outputs": [],
   "source": [
    "select_posts_likes=\"\"\"\n",
    "SELECT\n",
    "    description as Post,\n",
    "    COUNT(likes.id) as Likes\n",
    "FROM\n",
    "    likes,\n",
    "    posts\n",
    "WHERE\n",
    "    posts.id=likes.post_id\n",
    "GROUP BY\n",
    "    likes.post_id\n",
    "\"\"\""
   ]
  },
  {
   "cell_type": "code",
   "execution_count": 58,
   "id": "c2e32211",
   "metadata": {},
   "outputs": [
    {
     "data": {
      "text/plain": [
       "[('The weather is very hot today', 1),\n",
       " ('I need some help with my work', 1),\n",
       " ('I think this is becoming clearer', 2),\n",
       " ('It was a great game of tennis', 1),\n",
       " ('Anyone up for a party', 2)]"
      ]
     },
     "execution_count": 58,
     "metadata": {},
     "output_type": "execute_result"
    }
   ],
   "source": [
    "execute_read_query(select_posts_likes)"
   ]
  },
  {
   "cell_type": "code",
   "execution_count": 60,
   "id": "5b7d67ae",
   "metadata": {},
   "outputs": [],
   "source": [
    "# Updating records using the execute_query function"
   ]
  },
  {
   "cell_type": "code",
   "execution_count": 61,
   "id": "2286b2a9",
   "metadata": {},
   "outputs": [
    {
     "data": {
      "text/plain": [
       "[('The weather is very hot today',)]"
      ]
     },
     "execution_count": 61,
     "metadata": {},
     "output_type": "execute_result"
    }
   ],
   "source": [
    "execute_read_query(\"SELECT description FROM posts WHERE id=2\")"
   ]
  },
  {
   "cell_type": "code",
   "execution_count": 62,
   "id": "e541665a",
   "metadata": {},
   "outputs": [],
   "source": [
    "update_post_description=\"\"\"\n",
    "UPDATE\n",
    "    posts\n",
    "SET\n",
    "    description=\"The weather has become pleasant now\"\n",
    "WHERE\n",
    "    id=2\n",
    "\"\"\""
   ]
  },
  {
   "cell_type": "code",
   "execution_count": 63,
   "id": "01be0759",
   "metadata": {},
   "outputs": [
    {
     "name": "stdout",
     "output_type": "stream",
     "text": [
      "Query executed successfully\n"
     ]
    }
   ],
   "source": [
    "execute_query(update_post_description)"
   ]
  },
  {
   "cell_type": "code",
   "execution_count": 64,
   "id": "80964382",
   "metadata": {},
   "outputs": [
    {
     "data": {
      "text/plain": [
       "[('The weather has become pleasant now',)]"
      ]
     },
     "execution_count": 64,
     "metadata": {},
     "output_type": "execute_result"
    }
   ],
   "source": [
    "execute_read_query(\"SELECT description FROM posts WHERE id=2\")"
   ]
  },
  {
   "cell_type": "code",
   "execution_count": null,
   "id": "6201386f",
   "metadata": {},
   "outputs": [],
   "source": [
    "# Deleting tables records"
   ]
  },
  {
   "cell_type": "code",
   "execution_count": 78,
   "id": "a9b9633d",
   "metadata": {},
   "outputs": [
    {
     "name": "stdout",
     "output_type": "stream",
     "text": [
      "Query executed successfully\n"
     ]
    }
   ],
   "source": [
    "delete_comment = \"DELETE FROM comments WHERE id=7\" # There is no id 7, so nothing will be removed from the test data.\n",
    "execute_query(delete_comment)"
   ]
  }
 ],
 "metadata": {
  "kernelspec": {
   "display_name": "Python 3 (ipykernel)",
   "language": "python",
   "name": "python3"
  },
  "language_info": {
   "codemirror_mode": {
    "name": "ipython",
    "version": 3
   },
   "file_extension": ".py",
   "mimetype": "text/x-python",
   "name": "python",
   "nbconvert_exporter": "python",
   "pygments_lexer": "ipython3",
   "version": "3.9.7"
  }
 },
 "nbformat": 4,
 "nbformat_minor": 5
}
