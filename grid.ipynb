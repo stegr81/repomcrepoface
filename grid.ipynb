{
 "cells": [
  {
   "cell_type": "code",
   "execution_count": 37,
   "metadata": {},
   "outputs": [],
   "source": [
    "import numpy as np\n",
    "import geopandas as gpd\n",
    "from shapely.geometry import Polygon\n",
    "\n",
    "# Define the extent of the grid\n",
    "# can use .total_bounds on existing gpd\n",
    "xmin, ymin, xmax, ymax = [22.,44.,40.,54.]\n",
    "\n",
    "# umber of rows and columns\n",
    "num_rows = 20\n",
    "num_cols = 36\n",
    "\n",
    "# Calculate the grid cell size\n",
    "cell_size_x = (xmax - xmin) / num_cols\n",
    "cell_size_y = (ymax - ymin) / num_rows\n",
    "\n",
    "# Generate the grid points\n",
    "x_coords = np.linspace(xmin, xmax, num_cols + 1)\n",
    "y_coords = np.linspace(ymin, ymax, num_rows + 1)\n",
    "xx, yy = np.meshgrid(x_coords, y_coords)\n",
    "\n",
    "# Convert the grid points to polygons\n",
    "polygons = [Polygon([(xx[i][j], yy[i][j]),\n",
    "                     (xx[i+1][j], yy[i+1][j]),\n",
    "                     (xx[i+1][j+1], yy[i+1][j+1]),\n",
    "                     (xx[i][j+1], yy[i][j+1])]) \n",
    "            for i in range(num_rows) for j in range(num_cols)]\n",
    "\n",
    "\n",
    "gdf = gpd.GeoDataFrame(geometry=polygons, crs=\"EPSG:4544\")\n",
    "\n",
    "\n",
    "#gdf.to_file('grid.shp')"
   ]
  },
  {
   "cell_type": "code",
   "execution_count": 39,
   "metadata": {},
   "outputs": [
    {
     "data": {
      "image/svg+xml": [
       "<svg xmlns=\"http://www.w3.org/2000/svg\" xmlns:xlink=\"http://www.w3.org/1999/xlink\" width=\"100.0\" height=\"100.0\" viewBox=\"21.98 43.98 0.5399999999999991 0.5400000000000063\" preserveAspectRatio=\"xMinYMin meet\"><g transform=\"matrix(1,0,0,-1,0,88.5)\"><path fill-rule=\"evenodd\" fill=\"#66cc99\" stroke=\"#555555\" stroke-width=\"0.010800000000000125\" opacity=\"0.6\" d=\"M 22.0,44.0 L 22.0,44.5 L 22.5,44.5 L 22.5,44.0 L 22.0,44.0 z\" /></g></svg>"
      ],
      "text/plain": [
       "<POLYGON ((22 44, 22 44.5, 22.5 44.5, 22.5 44, 22 44))>"
      ]
     },
     "execution_count": 39,
     "metadata": {},
     "output_type": "execute_result"
    }
   ],
   "source": [
    "gdf.iloc[0]['geometry']"
   ]
  },
  {
   "cell_type": "code",
   "execution_count": null,
   "metadata": {},
   "outputs": [],
   "source": []
  }
 ],
 "metadata": {
  "kernelspec": {
   "display_name": "Python 3",
   "language": "python",
   "name": "python3"
  },
  "language_info": {
   "codemirror_mode": {
    "name": "ipython",
    "version": 3
   },
   "file_extension": ".py",
   "mimetype": "text/x-python",
   "name": "python",
   "nbconvert_exporter": "python",
   "pygments_lexer": "ipython3",
   "version": "3.10.7"
  },
  "orig_nbformat": 4
 },
 "nbformat": 4,
 "nbformat_minor": 2
}
