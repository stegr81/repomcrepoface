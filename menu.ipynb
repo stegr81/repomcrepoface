{
 "cells": [
  {
   "cell_type": "code",
   "execution_count": 3,
   "metadata": {},
   "outputs": [],
   "source": [
    "import sqlite3"
   ]
  },
  {
   "cell_type": "code",
   "execution_count": 4,
   "metadata": {},
   "outputs": [],
   "source": [
    "conn = sqlite3.connect('recipes.db')\n",
    "\n",
    "# Create a cursor object\n",
    "c = conn.cursor()"
   ]
  },
  {
   "cell_type": "code",
   "execution_count": 4,
   "metadata": {},
   "outputs": [
    {
     "data": {
      "text/plain": [
       "<sqlite3.Cursor at 0x7f34f0324bc0>"
      ]
     },
     "execution_count": 4,
     "metadata": {},
     "output_type": "execute_result"
    }
   ],
   "source": [
    "# Create a table for recipes\n",
    "c.execute('''CREATE TABLE IF NOT EXISTS recipes\n",
    "             (id INTEGER PRIMARY KEY, name TEXT UNIQUE)''') #unique to ensure you can't double up on values - add this to the other tables\n",
    "\n",
    "# Create a table for ingredients\n",
    "c.execute('''CREATE TABLE IF NOT EXISTS ingredients\n",
    "             (id INTEGER PRIMARY KEY, name TEXT)''')\n",
    "\n",
    "# Create a table for quantities\n",
    "c.execute('''CREATE TABLE IF NOT EXISTS quantities\n",
    "             (recipe_id INTEGER, ingredient_id INTEGER, amount REAL,\n",
    "              FOREIGN KEY(recipe_id) REFERENCES recipes(id),\n",
    "              FOREIGN KEY(ingredient_id) REFERENCES ingredients(id))''')\n",
    "\n",
    "\n",
    "# Create a table for inventory\n",
    "c.execute('''CREATE TABLE IF NOT EXISTS inventory\n",
    "             (ingredient_id INTEGER, amount REAL,\n",
    "              FOREIGN KEY(ingredient_id) REFERENCES ingredients(id))''')"
   ]
  },
  {
   "cell_type": "code",
   "execution_count": 16,
   "metadata": {},
   "outputs": [],
   "source": [
    "def execute_read_query(query, conn=conn):\n",
    "    c=conn.cursor()\n",
    "    result=None\n",
    "    try:\n",
    "        c.execute(query)\n",
    "        result=c.fetchall()\n",
    "        return result\n",
    "    except Error as e:\n",
    "        print(\"The error '{e}' occurred\")"
   ]
  },
  {
   "cell_type": "code",
   "execution_count": 5,
   "metadata": {},
   "outputs": [
    {
     "data": {
      "text/plain": [
       "<sqlite3.Cursor at 0x7f34f0324bc0>"
      ]
     },
     "execution_count": 5,
     "metadata": {},
     "output_type": "execute_result"
    }
   ],
   "source": [
    "c.execute(\"INSERT INTO recipes (name) VALUES ('Low Carb Lasagne')\")\n",
    "c.execute(\"INSERT INTO recipes (name) VALUES ('Jalfrezi')\")"
   ]
  },
  {
   "cell_type": "code",
   "execution_count": 22,
   "metadata": {},
   "outputs": [],
   "source": [
    "def execute_insert(table:str,column:str,values:list, conn=conn):\n",
    "    c=conn.cursor()\n",
    "    result=None\n",
    "    try:\n",
    "        for value in values:\n",
    "            query = f\"INSERT INTO {table} ({column}) VALUES ('{value}')\"\n",
    "            print(query)\n",
    "            c.execute(query)\n",
    "    except Error as e:\n",
    "        print(f'The error {e} occurred')\n",
    "    conn.commit()\n",
    "\n",
    "def execute_value_deletion(table:str, column:str, value:str, conn=conn):\n",
    "    c=conn.cursor()\n",
    "    result=None\n",
    "    query = f\"DELETE FROM {table} WHERE {column} = '{value}'\"\n",
    "    print(query)\n",
    "    c.execute(query)\n",
    "    conn.commit()\n",
    "\n"
   ]
  },
  {
   "cell_type": "code",
   "execution_count": 25,
   "metadata": {},
   "outputs": [
    {
     "name": "stdout",
     "output_type": "stream",
     "text": [
      "DELETE FROM ingredients WHERE name = 'Chicken'\n"
     ]
    }
   ],
   "source": [
    "execute_value_deletion(table='ingredients', column='name', value='Chicken')"
   ]
  },
  {
   "cell_type": "code",
   "execution_count": 69,
   "metadata": {},
   "outputs": [
    {
     "name": "stdout",
     "output_type": "stream",
     "text": [
      "INSERT INTO ingredients (name) VALUES ('Chicken')\n",
      "INSERT INTO ingredients (name) VALUES ('Turmeric')\n"
     ]
    }
   ],
   "source": [
    "execute_insert(table='ingredients', column='name', values=['Chicken','Turmeric'])"
   ]
  },
  {
   "cell_type": "code",
   "execution_count": null,
   "metadata": {},
   "outputs": [],
   "source": [
    "c.execute(\"INSERT INTO ingredients (name) VALUES ('Onions')\")\n",
    "c.execute(\"INSERT INTO ingredients (name) VALUES ('Carrots')\")\n",
    "c.execute(\"INSERT INTO ingredients (name) VALUES ('Garlic')\")\n",
    "c.execute(\"INSERT INTO ingredients (name) VALUES ('5% Beef Mince')\")\n",
    "c.execute(\"INSERT INTO ingredients (name) VALUES ('Tomato Puree')\")\n",
    "c.execute(\"INSERT INTO ingredients (name) VALUES ('Chopped Tomatoes')\")\n",
    "c.execute(\"INSERT INTO ingredients (name) VALUES ('Butter')\")\n",
    "c.execute(\"INSERT INTO ingredients (name) VALUES ('Plain Flour')\")\n",
    "c.execute(\"INSERT INTO ingredients (name) VALUES ('Skimmed Milk')\")"
   ]
  },
  {
   "cell_type": "code",
   "execution_count": 26,
   "metadata": {},
   "outputs": [
    {
     "data": {
      "text/plain": [
       "<sqlite3.Cursor at 0x7f34f0324bc0>"
      ]
     },
     "execution_count": 26,
     "metadata": {},
     "output_type": "execute_result"
    }
   ],
   "source": [
    "c.execute(\"INSERT INTO quantities (recipe_id, ingredient_id, amount) VALUES (1, 1, 2)\")\n",
    "c.execute(\"INSERT INTO quantities (recipe_id, ingredient_id, amount) VALUES (1, 2, 2)\")\n",
    "c.execute(\"INSERT INTO quantities (recipe_id, ingredient_id, amount) VALUES (1, 3, 1)\")\n",
    "c.execute(\"INSERT INTO quantities (recipe_id, ingredient_id, amount) VALUES (1, 4, 665)\")\n",
    "c.execute(\"INSERT INTO quantities (recipe_id, ingredient_id, amount) VALUES (1, 5, 30)\")\n",
    "c.execute(\"INSERT INTO quantities (recipe_id, ingredient_id, amount) VALUES (1, 6, 430)\")\n",
    "c.execute(\"INSERT INTO quantities (recipe_id, ingredient_id, amount) VALUES (1, 7, 35)\")\n",
    "c.execute(\"INSERT INTO quantities (recipe_id, ingredient_id, amount) VALUES (1, 8, 30)\")\n",
    "c.execute(\"INSERT INTO quantities (recipe_id, ingredient_id, amount) VALUES (1, 9, 430)\")\n"
   ]
  },
  {
   "cell_type": "code",
   "execution_count": 27,
   "metadata": {},
   "outputs": [],
   "source": [
    "conn.commit()"
   ]
  },
  {
   "cell_type": "code",
   "execution_count": 40,
   "metadata": {},
   "outputs": [],
   "source": [
    "recipe_name = 'Low Carb Lasagne'\n",
    "\n",
    "# Get the recipe id from the recipes table\n",
    "\n",
    "c.execute(\"SELECT id FROM recipes WHERE name = ?\", (recipe_name,))\n",
    "recipe_id = c.fetchone()[0]"
   ]
  },
  {
   "cell_type": "code",
   "execution_count": 50,
   "metadata": {},
   "outputs": [
    {
     "name": "stdout",
     "output_type": "stream",
     "text": [
      "['recipe_id', 'ingredient_id', 'amount']\n"
     ]
    }
   ],
   "source": [
    "c.execute(\"SELECT * FROM quantities LIMIT 0\")\n",
    "\n",
    "# Fetch the description of the cursor object\n",
    "description = c.description\n",
    "\n",
    "# Extract the column names from the description\n",
    "column_names = [col[0] for col in description]\n",
    "\n",
    "# Print the column names\n",
    "print(column_names)"
   ]
  },
  {
   "cell_type": "code",
   "execution_count": 5,
   "metadata": {},
   "outputs": [
    {
     "name": "stdout",
     "output_type": "stream",
     "text": [
      "['id', 'name']\n"
     ]
    }
   ],
   "source": [
    "c.execute(\"SELECT * FROM ingredients LIMIT 0\")\n",
    "\n",
    "# Fetch the description of the cursor object\n",
    "description = c.description\n",
    "\n",
    "# Extract the column names from the description\n",
    "column_names = [col[0] for col in description]\n",
    "\n",
    "# Print the column names\n",
    "print(column_names)"
   ]
  },
  {
   "cell_type": "code",
   "execution_count": 56,
   "metadata": {},
   "outputs": [
    {
     "data": {
      "text/plain": [
       "[(1, 'Low Carb Lasagne'), (2, 'Jalfrezi')]"
      ]
     },
     "execution_count": 56,
     "metadata": {},
     "output_type": "execute_result"
    }
   ],
   "source": [
    "execute_read_query(\"SELECT * FROM recipes\")"
   ]
  },
  {
   "cell_type": "code",
   "execution_count": 28,
   "metadata": {},
   "outputs": [
    {
     "data": {
      "text/plain": [
       "[(1, 'Onions'),\n",
       " (2, 'Carrots'),\n",
       " (3, 'Garlic'),\n",
       " (4, '5% Beef Mince'),\n",
       " (5, 'Tomato Puree'),\n",
       " (6, 'Chopped Tomatoes'),\n",
       " (7, 'Butter'),\n",
       " (8, 'Plain Flour'),\n",
       " (9, 'Skimmed Milk')]"
      ]
     },
     "execution_count": 28,
     "metadata": {},
     "output_type": "execute_result"
    }
   ],
   "source": [
    "execute_read_query(\"SELECT * FROM ingredients\")"
   ]
  },
  {
   "cell_type": "code",
   "execution_count": 52,
   "metadata": {},
   "outputs": [],
   "source": [
    "# Define the name of the recipe you want to check\n",
    "recipe_name = 'Low Carb Lasagne'\n",
    "\n",
    "# Get the recipe id from the recipes table\n",
    "c.execute(\"SELECT id FROM recipes WHERE name = ?\", (recipe_name,))\n",
    "recipe_id = c.fetchone()[0]"
   ]
  },
  {
   "cell_type": "code",
   "execution_count": 53,
   "metadata": {},
   "outputs": [],
   "source": [
    "\n",
    "c.execute(\"SELECT ingredients.name, quantities.amount FROM quantities INNER JOIN ingredients ON quantities.ingredient_id = ingredients.id WHERE recipe_id = ?\", (recipe_id,))\n",
    "recipe_ingredients = c.fetchall()"
   ]
  },
  {
   "cell_type": "code",
   "execution_count": 14,
   "metadata": {},
   "outputs": [
    {
     "ename": "NameError",
     "evalue": "name 'recipe_ingredients' is not defined",
     "output_type": "error",
     "traceback": [
      "\u001b[0;31m---------------------------------------------------------------------------\u001b[0m",
      "\u001b[0;31mNameError\u001b[0m                                 Traceback (most recent call last)",
      "Cell \u001b[0;32mIn[14], line 1\u001b[0m\n\u001b[0;32m----> 1\u001b[0m recipe_ingredients\n",
      "\u001b[0;31mNameError\u001b[0m: name 'recipe_ingredients' is not defined"
     ]
    }
   ],
   "source": [
    "recipe_ingredients"
   ]
  },
  {
   "cell_type": "code",
   "execution_count": 55,
   "metadata": {},
   "outputs": [
    {
     "data": {
      "text/plain": [
       "{'Onions': 2.0,\n",
       " 'Carrots': 2.0,\n",
       " 'Garlic': 1.0,\n",
       " '5% Beef Mince': 665.0,\n",
       " 'Tomato Puree': 30.0,\n",
       " 'Chopped Tomatoes': 430.0,\n",
       " 'Butter': 35.0,\n",
       " 'Plain Flour': 30.0,\n",
       " 'Skimmed Milk': 430.0}"
      ]
     },
     "execution_count": 55,
     "metadata": {},
     "output_type": "execute_result"
    }
   ],
   "source": [
    "recipe_ingredients = {name: amount for name, amount in recipe_ingredients}\n",
    "recipe_ingredients"
   ]
  },
  {
   "cell_type": "code",
   "execution_count": null,
   "metadata": {},
   "outputs": [],
   "source": []
  }
 ],
 "metadata": {
  "kernelspec": {
   "display_name": "Python 3",
   "language": "python",
   "name": "python3"
  },
  "language_info": {
   "codemirror_mode": {
    "name": "ipython",
    "version": 3
   },
   "file_extension": ".py",
   "mimetype": "text/x-python",
   "name": "python",
   "nbconvert_exporter": "python",
   "pygments_lexer": "ipython3",
   "version": "3.10.7"
  },
  "orig_nbformat": 4
 },
 "nbformat": 4,
 "nbformat_minor": 2
}
