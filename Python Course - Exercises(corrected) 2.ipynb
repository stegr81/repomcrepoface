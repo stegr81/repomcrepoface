{
 "cells": [
  {
   "cell_type": "markdown",
   "metadata": {
    "deletable": false,
    "editable": false
   },
   "source": [
    "# Introduction to Scripting with Python\n",
    "\n",
    "This notebook is a progressive collection of challenges used in the Introduction to Scripting with Python course."
   ]
  },
  {
   "cell_type": "markdown",
   "metadata": {},
   "source": [
    "<h2><font color = \"red\">String Challenges 1</font></h2>"
   ]
  },
  {
   "cell_type": "markdown",
   "metadata": {
    "deletable": false,
    "editable": false
   },
   "source": [
    "1. <u>Define</u> a variable with an appropriate name and store your full name as the value."
   ]
  },
  {
   "cell_type": "code",
   "execution_count": null,
   "metadata": {},
   "outputs": [],
   "source": [
    "# Question 1 - your code goes in this cell\n",
    "\n",
    "\n"
   ]
  },
  {
   "cell_type": "markdown",
   "metadata": {},
   "source": [
    "2. **Print** your variable."
   ]
  },
  {
   "cell_type": "code",
   "execution_count": null,
   "metadata": {},
   "outputs": [],
   "source": [
    "# Question 2 - your code goes in this cell\n",
    "\n",
    "\n"
   ]
  },
  {
   "cell_type": "markdown",
   "metadata": {
    "deletable": false,
    "editable": false
   },
   "source": [
    "3. Can you print the **type** of the variable you have created?"
   ]
  },
  {
   "cell_type": "code",
   "execution_count": null,
   "metadata": {},
   "outputs": [],
   "source": [
    "# Question 3 - your code goes in this cell\n",
    "\n",
    "\n"
   ]
  },
  {
   "cell_type": "markdown",
   "metadata": {},
   "source": [
    "4. Use the quote below to create a variable then print it using the different methods we've looked at to handle a combination of speech mark and apostrophes.\n",
    "\n",
    "        \"My Mama always said, \"life was like a box of chocolates; you never know what you're gonna get\"\" "
   ]
  },
  {
   "cell_type": "code",
   "execution_count": null,
   "metadata": {},
   "outputs": [],
   "source": [
    "# Question 4 - your code goes in this cell\n",
    "\n",
    "\n"
   ]
  },
  {
   "cell_type": "markdown",
   "metadata": {},
   "source": [
    "<h2><font color=\"red\">String Challenges 2</font></h2>"
   ]
  },
  {
   "cell_type": "markdown",
   "metadata": {
    "deletable": false,
    "editable": false
   },
   "source": [
    "<p><font color=\"blue\"><b>Run the cell below to define the variables </b></font></p>"
   ]
  },
  {
   "cell_type": "code",
   "execution_count": null,
   "metadata": {
    "deletable": false,
    "editable": false
   },
   "outputs": [],
   "source": [
    "a = 'abra'\n",
    "b = 'cad'\n",
    "c = a + b + a\n",
    "d = 'bird'\n",
    "d_5 = d * 5"
   ]
  },
  {
   "cell_type": "markdown",
   "metadata": {
    "deletable": false,
    "editable": false
   },
   "source": [
    "1. What value is stored in the variable c? Store the answer in a variable named q1"
   ]
  },
  {
   "cell_type": "code",
   "execution_count": null,
   "metadata": {
    "code_folding": [
     6,
     9
    ]
   },
   "outputs": [],
   "source": [
    "# Question 1 - your code goes in this cell\n",
    "q1 = \"\"\n",
    "\n",
    "\n",
    "# ignore this, it is simply checking your answer!\n",
    "try:\n",
    "    assert q1 == c\n",
    "    print(\"Correct!\")\n",
    "except AssertionError:\n",
    "    print('Incorrect, try again!')"
   ]
  },
  {
   "cell_type": "markdown",
   "metadata": {
    "deletable": false,
    "editable": false
   },
   "source": [
    "2. What is stored in the variable d_5? Discuss why that happened."
   ]
  },
  {
   "cell_type": "code",
   "execution_count": null,
   "metadata": {
    "code_folding": [
     6,
     9
    ]
   },
   "outputs": [],
   "source": [
    "# Quesion 2 - your codes goes in here\n",
    "q2 = \"\"\n",
    "\n",
    "\n",
    "# ignore this, it is simply checking your answer!\n",
    "try:\n",
    "    assert q2 == d_5\n",
    "    print(\"Correct!\")\n",
    "except AssertionError:\n",
    "    print('Incorrect, try again!')"
   ]
  },
  {
   "cell_type": "markdown",
   "metadata": {
    "deletable": false,
    "editable": false
   },
   "source": [
    "3. What character is at d_5[0]?"
   ]
  },
  {
   "cell_type": "code",
   "execution_count": null,
   "metadata": {
    "code_folding": [
     6,
     9
    ]
   },
   "outputs": [],
   "source": [
    "# Quesion 3 - your codes goes in here\n",
    "q3 = \"\"\n",
    "\n",
    "\n",
    "# ignore this, it is simply checking your answer!\n",
    "try:\n",
    "    assert q3 == d_5[0]\n",
    "    print(\"Correct!\")\n",
    "except AssertionError:\n",
    "    print('Incorrect, try again!')"
   ]
  },
  {
   "cell_type": "markdown",
   "metadata": {
    "deletable": false,
    "editable": false
   },
   "source": [
    " 4. What characters is at d[-1]?"
   ]
  },
  {
   "cell_type": "code",
   "execution_count": null,
   "metadata": {
    "code_folding": [
     6,
     9
    ]
   },
   "outputs": [],
   "source": [
    "# Question 4 - your codes goes in here\n",
    "q4 = \"\"\n",
    "\n",
    "\n",
    "# ignore this, it is simply checking your answer!\n",
    "try:\n",
    "    assert q4 == d[-1]\n",
    "    print(\"Correct!\")\n",
    "except AssertionError:\n",
    "    print('Incorrect, try again!')"
   ]
  },
  {
   "cell_type": "markdown",
   "metadata": {
    "deletable": false,
    "editable": false
   },
   "source": [
    "5. What animal makes the sound found at c[1:6:2]?"
   ]
  },
  {
   "cell_type": "code",
   "execution_count": 3,
   "metadata": {
    "code_folding": [
     5,
     10
    ]
   },
   "outputs": [
    {
     "name": "stdout",
     "output_type": "stream",
     "text": [
      "Incorrect, try again!\n"
     ]
    }
   ],
   "source": [
    "# Question 5 - your code goes in here\n",
    "q5 = \"\"\n",
    "\n",
    "\n",
    "# ignore this, it is simply checking your answer!\n",
    "try:\n",
    "    assert q5.lower() == \"\".join([chr(i) for i in [115, 104, 101, 101, 112]])\n",
    "    print(\"Correct!\")\n",
    "except AssertionError:\n",
    "    print('Incorrect, try again!')"
   ]
  },
  {
   "cell_type": "markdown",
   "metadata": {
    "deletable": false,
    "editable": false
   },
   "source": [
    "6. What word is c[4:1:-1]?"
   ]
  },
  {
   "cell_type": "code",
   "execution_count": null,
   "metadata": {
    "code_folding": [
     5,
     8
    ]
   },
   "outputs": [],
   "source": [
    "# Question 6 - your code goes in here\n",
    "q6 = \"\"\n",
    "\n",
    "\n",
    "# ignore this, it is simply checking your answer!\n",
    "try:\n",
    "    assert q6 == c[4:1:-1]\n",
    "    print(\"Correct!\")\n",
    "except AssertionError:\n",
    "    print('Incorrect, try again!')"
   ]
  },
  {
   "cell_type": "markdown",
   "metadata": {},
   "source": [
    "<h2><font color=\"red\">String Challenges 3</font></h2>"
   ]
  },
  {
   "cell_type": "markdown",
   "metadata": {
    "deletable": false,
    "editable": false
   },
   "source": [
    "<p><font color=\"blue\"><b>Run the cell below to define the variable </b></font></p>"
   ]
  },
  {
   "cell_type": "code",
   "execution_count": null,
   "metadata": {
    "deletable": false,
    "editable": false
   },
   "outputs": [],
   "source": [
    "example = 'lumber@jack.com'"
   ]
  },
  {
   "cell_type": "markdown",
   "metadata": {},
   "source": [
    "1. Using string slicing and find/index, then print the username and domain of the given email address. Call the variables user and domain respectively.\n",
    "\n",
    "The user name is everything before the @ and the domain everything after the @"
   ]
  },
  {
   "cell_type": "code",
   "execution_count": null,
   "metadata": {},
   "outputs": [],
   "source": [
    "# Question 1 - your code goes in here\n",
    "\n",
    "\n"
   ]
  },
  {
   "cell_type": "markdown",
   "metadata": {
    "deletable": false,
    "editable": false
   },
   "source": [
    "2. Ask the user to input a name and then output the name with the first letter capitalised.<p><br>\n",
    "   ie name = 'james', and the output we want is 'James'</p><br>\n",
    "Print out the statement 'Capitalised name: James' at the end. <b>Try to use string interpolation for this part.<b>"
   ]
  },
  {
   "cell_type": "code",
   "execution_count": null,
   "metadata": {},
   "outputs": [],
   "source": [
    "# Question 2 - your code goes in here\n",
    "\n",
    "\n"
   ]
  },
  {
   "cell_type": "markdown",
   "metadata": {},
   "source": [
    "<h2><font color=\"red\">Number Challenges 1</h2></font>"
   ]
  },
  {
   "cell_type": "markdown",
   "metadata": {
    "deletable": false,
    "editable": false
   },
   "source": [
    "1. What object/data type are the following? Just make a note of your answers."
   ]
  },
  {
   "cell_type": "markdown",
   "metadata": {
    "deletable": false,
    "editable": false
   },
   "source": [
    "<p>a) num = 5</p>\n",
    "<p>b) num = -2</p>\n",
    "<p>c) num = 5.8</p>\n",
    "<p>d) num = 6.0</p>\n",
    "<p>e) my_tel = '978654123343'</p>"
   ]
  },
  {
   "cell_type": "markdown",
   "metadata": {},
   "source": [
    "2. <font color = 'blue'><b>Run the cell below to declare the variable</b></font> then create two new variables and cast the num_to_cast variable as a float in one and then a string in the other using the techniques we've learned."
   ]
  },
  {
   "cell_type": "code",
   "execution_count": null,
   "metadata": {
    "deletable": false,
    "editable": false
   },
   "outputs": [],
   "source": [
    "num_to_cast = 10"
   ]
  },
  {
   "cell_type": "code",
   "execution_count": null,
   "metadata": {},
   "outputs": [],
   "source": [
    "# Question 2 - your code goes in here\n",
    "\n",
    "\n"
   ]
  },
  {
   "cell_type": "markdown",
   "metadata": {},
   "source": [
    "3. <font color = 'blue'><b>Run the cell below to declare the variable</b></font>, then use Python to round it to 3 decimal places"
   ]
  },
  {
   "cell_type": "code",
   "execution_count": null,
   "metadata": {
    "deletable": false,
    "editable": false
   },
   "outputs": [],
   "source": [
    "float_to_cast = 0.076923076"
   ]
  },
  {
   "cell_type": "code",
   "execution_count": null,
   "metadata": {},
   "outputs": [],
   "source": [
    "# Question 3 - your code goes in here\n",
    "\n",
    "\n"
   ]
  },
  {
   "cell_type": "markdown",
   "metadata": {},
   "source": [
    "<h2><font color=\"red\">Number Challenges 2</h2></font>"
   ]
  },
  {
   "cell_type": "markdown",
   "metadata": {
    "deletable": false
   },
   "source": [
    "1. Use the variables in the cell below to calculate the volume of the object, then round your result to 3 decimal places.<p>\n",
    "    <br><b>To calculate volume of a regular 3d polygonal shape, multiply the height of the object by the width then the length (order not important).</b>"
   ]
  },
  {
   "cell_type": "code",
   "execution_count": null,
   "metadata": {
    "code_folding": [],
    "deletable": false,
    "editable": false
   },
   "outputs": [],
   "source": [
    "# The variables have been defined below to help you:\n",
    "height = 35.78601\n",
    "width = 5.2\n",
    "length = 10"
   ]
  },
  {
   "cell_type": "code",
   "execution_count": null,
   "metadata": {
    "code_folding": [
     5,
     8
    ]
   },
   "outputs": [],
   "source": [
    "# Question 1 - your code goes in here\n",
    "volume = \n",
    "\n",
    "\n",
    "# ignore this, it is simply checking your answer!\n",
    "try:\n",
    "    assert volume == 1860.873\n",
    "    print('Success!')\n",
    "except AssertionError:\n",
    "    print('Unfortunately that volume is not correct')"
   ]
  },
  {
   "cell_type": "markdown",
   "metadata": {
    "deletable": false,
    "editable": false
   },
   "source": [
    "2. <font color = 'blue'><b>Run the cell below,</b></font> to declare the two variables. <b>Round pi to two decimal places</b> then print a coherent sentence with pi_string"
   ]
  },
  {
   "cell_type": "code",
   "execution_count": null,
   "metadata": {
    "deletable": false,
    "editable": false
   },
   "outputs": [],
   "source": [
    "pi = 3.1415926535\n",
    "pi_string = 'Pi, rounded to 2 decimal places is '"
   ]
  },
  {
   "cell_type": "code",
   "execution_count": null,
   "metadata": {
    "code_folding": []
   },
   "outputs": [],
   "source": [
    "# Question 2 - your code goes in here\n",
    "\n",
    "\n"
   ]
  },
  {
   "cell_type": "markdown",
   "metadata": {},
   "source": [
    "<h2><font color=\"red\">List Challenges 1</h2></font>"
   ]
  },
  {
   "cell_type": "markdown",
   "metadata": {
    "deletable": false,
    "editable": false
   },
   "source": [
    "1. Create a shopping list and add these items as strings. apples, oranges, milk, avocado, cherry tomatoes."
   ]
  },
  {
   "cell_type": "code",
   "execution_count": null,
   "metadata": {},
   "outputs": [],
   "source": [
    "# Question 1 - your code goes here\n",
    "\n",
    "\n"
   ]
  },
  {
   "cell_type": "markdown",
   "metadata": {
    "deletable": false,
    "editable": false
   },
   "source": [
    "2. Use boolean logic to see if apples are in your list"
   ]
  },
  {
   "cell_type": "code",
   "execution_count": null,
   "metadata": {},
   "outputs": [],
   "source": [
    "# Question 2 - Your codes goes here\n",
    "\n",
    "\n"
   ]
  },
  {
   "cell_type": "markdown",
   "metadata": {
    "deletable": false,
    "editable": false
   },
   "source": [
    "3. Going back to indexing, see if you can output the index of apples in your list"
   ]
  },
  {
   "cell_type": "code",
   "execution_count": null,
   "metadata": {},
   "outputs": [],
   "source": [
    "# Question 3 - Your code goes here\n",
    "\n",
    "\n"
   ]
  },
  {
   "cell_type": "markdown",
   "metadata": {},
   "source": [
    "<font color = 'blue'><b>Run the cell below to define the list of cars </b></font>"
   ]
  },
  {
   "cell_type": "code",
   "execution_count": null,
   "metadata": {
    "deletable": false,
    "editable": false
   },
   "outputs": [],
   "source": [
    "car_list = ['Ford','Renault', 'Skoda',['Nissan','Toyota']]"
   ]
  },
  {
   "cell_type": "markdown",
   "metadata": {
    "deletable": false,
    "editable": false
   },
   "source": [
    "4. Can you output <b>only</b> Nissan from the list?"
   ]
  },
  {
   "cell_type": "code",
   "execution_count": null,
   "metadata": {},
   "outputs": [],
   "source": [
    "# Question 4 - your code goes here\n",
    "\n",
    "\n"
   ]
  },
  {
   "cell_type": "markdown",
   "metadata": {},
   "source": [
    "<h2><font color=\"red\">List Challenges 2</h2></font>"
   ]
  },
  {
   "cell_type": "markdown",
   "metadata": {
    "deletable": false,
    "editable": false
   },
   "source": [
    "We're going to write a script that takes a user's input and tells them which position in the list the given country is.\n",
    "\n",
    "1. Create a list containing following countries (in the order presented):\n",
    "\n",
    "<ul>\n",
    "<li>Uruguay</li>\n",
    "<li>Italy</li>\n",
    "<li>Germany</li>\n",
    "<li>Brazil</li>\n",
    "<li>England</li>\n",
    "<li>Argentina</li>\n",
    "<li>France</li>\n",
    "<li>Spain</li>\n",
    "</ul>"
   ]
  },
  {
   "cell_type": "code",
   "execution_count": null,
   "metadata": {},
   "outputs": [],
   "source": [
    "# Question 1 - your code goes here\n",
    "\n",
    "\n"
   ]
  },
  {
   "cell_type": "markdown",
   "metadata": {
    "deletable": false,
    "editable": false
   },
   "source": [
    "2. Take a user's input and tell them which position (offset,<b>index</b>) their selection is in."
   ]
  },
  {
   "cell_type": "code",
   "execution_count": null,
   "metadata": {},
   "outputs": [],
   "source": [
    "# Question 2 - your code goes here\n",
    "\n",
    "\n"
   ]
  },
  {
   "cell_type": "markdown",
   "metadata": {},
   "source": [
    "<h2><font color=\"red\">Flow Control Challenges 1</font></h2>"
   ]
  },
  {
   "cell_type": "markdown",
   "metadata": {},
   "source": [
    "1. Lets start by checking that the given password ('newpassword') is long enough - it must be 10 chars or longer and then print a meaningful error message if the password is too short (e.g. \"Passwords must be at least 10 chars long\") "
   ]
  },
  {
   "cell_type": "code",
   "execution_count": null,
   "metadata": {},
   "outputs": [],
   "source": [
    "# heres our newpassword  (just comment/uncomment a newpassword to try it)\n",
    "newpassword = 'abcdefg'           # should fail\n",
    "#newpassword = 'abcdefghijkl'    # should pass\n",
    "\n",
    "# Question 1 - your code goes here\n",
    "\n",
    "\n"
   ]
  },
  {
   "cell_type": "markdown",
   "metadata": {},
   "source": [
    "2. 'newpassword' should not be one of the past 5 passwords used, print a meaningful error message if necessary (e.g. \"Passwords must not be any of your previous 5 passwords\")"
   ]
  },
  {
   "cell_type": "code",
   "execution_count": null,
   "metadata": {},
   "outputs": [],
   "source": [
    "# here's our old passwords\n",
    "oldpasswords = ['ball00naticS','Gr1zzlyBears','This1sMyPassword','ThisWasThenMyN3xtPassword','Scunth0rp3']\n",
    "\n",
    "# heres our newpassword\n",
    "newpassword = 'Scunth0rp3'            # should fail\n",
    "#newpassword = 'bananas1nPyjamas'         # should pass\n",
    "\n",
    "# Question 2 - your code goes here\n",
    "\n",
    "\n"
   ]
  },
  {
   "cell_type": "markdown",
   "metadata": {},
   "source": [
    "<h2><font color=\"red\">Loops Challenges 1</font></h2>"
   ]
  },
  {
   "cell_type": "markdown",
   "metadata": {},
   "source": [
    "1. We have a list of phone numbers, some of which have a leading '+' which we could do without.  Loop through and build a new list without leading '+'"
   ]
  },
  {
   "cell_type": "code",
   "execution_count": null,
   "metadata": {
    "code_folding": [
     7,
     11
    ]
   },
   "outputs": [],
   "source": [
    "# our list of phones, some with leading +\n",
    "phones = ['+987654321012','876543212345','+765432123456']\n",
    "\n",
    "# assign your stripped answer to stripped\n",
    "stripped = []\n",
    "\n",
    "# ignore this, it is simply checking your answer!\n",
    "try:\n",
    "    assert stripped == ['987654321012','876543212345','765432123456']\n",
    "    print(stripped)\n",
    "    print('Success!')    \n",
    "except AssertionError:\n",
    "    print('Sorry, thats not the right stripped list')"
   ]
  },
  {
   "cell_type": "markdown",
   "metadata": {},
   "source": [
    "2. Do we have any ip's with first octet 233? Loop through the ips, if you hit one that begins with 233, **overwrite the variable answer with True**!\n",
    "\n",
    "**Hint**: do we need to loop through the whole list?\n",
    "\n",
    "**Hint 2**: look at the list of available string functions you may find one that will help"
   ]
  },
  {
   "cell_type": "code",
   "execution_count": null,
   "metadata": {
    "code_folding": [
     9,
     12
    ]
   },
   "outputs": [],
   "source": [
    "# lets refresh our ip list\n",
    "ips = ['111.1.1.10', '111.1.1.10', '222.2.2.2', '233.233.33.3', '244.244.244.244', '233.233.33.3']\n",
    "\n",
    "# assign your answer to ... answer (we'll start by assuming False)\n",
    "answer = False\n",
    "\n",
    "\n",
    "        \n",
    "# ignore this, it is simply checking your answer!\n",
    "try:\n",
    "    assert answer == True\n",
    "    print('Success!')\n",
    "except AssertionError:\n",
    "    print('Sorry, the list does contain ips with first octet 333')"
   ]
  },
  {
   "cell_type": "markdown",
   "metadata": {},
   "source": [
    "3. We are given a phrase (from the Zen of Python), we want to break this into a list of 'significant' words.  To help us we are also given a list of stop words (so common they are of no use to us). Use a loop to build our list of significant words\n",
    "\n",
    "**Hint**: Python is case sensitive"
   ]
  },
  {
   "cell_type": "code",
   "execution_count": null,
   "metadata": {
    "code_folding": [
     10,
     13
    ]
   },
   "outputs": [],
   "source": [
    "#\n",
    "stopwords = ['if','the','is','to','a']\n",
    "\n",
    "# a phrase from the zen of python\n",
    "phrase = \"If the implementation is hard to explain its a bad idea\"\n",
    "\n",
    "# assign your answer to significant\n",
    "significant = []\n",
    "\n",
    "# ignore this, it is simply checking your answer!\n",
    "try:\n",
    "    assert set(significant) == set(['implementation', 'hard', 'explain', 'its', 'bad', 'idea'])\n",
    "    print('Success!')    \n",
    "except AssertionError:\n",
    "    print('Sorry, thats not the right list of significant words')"
   ]
  },
  {
   "cell_type": "markdown",
   "metadata": {},
   "source": [
    "4. Lets build a list of the first 10 items in the Fibonacci series using a loop. \n",
    "\n",
    "*What is the Fibonacci series?* It's a number sequence starting with 1 and then 1 again where every subsequent number is calculated by adding the previous 2 numbers. So our answer should be: \n",
    "\n",
    "1,1,2,3,5,8,13,21,34,55\n",
    "\n",
    "**Hint**: should we use a definite or indefinite loop?\n",
    "\n",
    "**Hint 2**: is there are function you could use to bound your loop?  ..................... range?"
   ]
  },
  {
   "cell_type": "code",
   "execution_count": null,
   "metadata": {
    "code_folding": [
     8,
     14
    ]
   },
   "outputs": [],
   "source": [
    "# here's our list pre-populated with the first two numbers, append the remaining eight numbers\n",
    "fibs = [1,1]\n",
    "\n",
    "# loop through the remaining numbers\n",
    "\n",
    "\n",
    "\n",
    "# ignore this, it is simply checking your answer!\n",
    "try:\n",
    "    testfibs = [1,1,2,3,5,8,13,21,34,55]\n",
    "\n",
    "    assert testfibs == fibs\n",
    "    print(fibs)\n",
    "    print('Success!')\n",
    "except AssertionError:\n",
    "    print('Unfortunately thats not the correct sequence')"
   ]
  },
  {
   "cell_type": "markdown",
   "metadata": {},
   "source": [
    "5. We have a list of IPv4 addresses that we later need to perform some comparisons on. Unfortunately, we are not getting the results we expect because some of them are 0 padded and some are not.\n",
    "\n",
    "Using loops (granted there are other, better ways) remove the 0 padding from each ipv4 address.\n",
    "\n",
    "**Hint**: nesting is fun!\n",
    "\n",
    "**Hint**: how might casting to an int help overcome 0 padding within an octet?"
   ]
  },
  {
   "cell_type": "code",
   "execution_count": null,
   "metadata": {
    "code_folding": [
     21,
     34
    ]
   },
   "outputs": [],
   "source": [
    "# input list (notice that there are duplicate ip's, or at least there will be after 0 padding removal)\n",
    "ips = [\n",
    "    '111.1.1.10',\n",
    "    '111.001.001.010',\n",
    "    '222.002.002.002',\n",
    "    '233.233.033.003',\n",
    "    '244.244.244.244',\n",
    "    '233.233.33.3'\n",
    "]\n",
    "\n",
    "# use the most appropriate type of loops to loop through and remove 0 padding as appropriate\n",
    "# NOTE: you may find it easier to create a new output ips list - infact we've created one for you 'newips'\n",
    "# NOTE 2: when building your new ip, perhaps create a list of octets and then the join method to form a string\n",
    "\n",
    "# build your altered list of ip's in this list\n",
    "newips = []\n",
    "\n",
    "\n",
    "    \n",
    "\n",
    "# ignore this, it is simply checking your answer!\n",
    "try:\n",
    "    testset = set([\n",
    "        '111.1.1.10',\n",
    "        '222.2.2.2',\n",
    "        '233.233.33.3',\n",
    "        '244.244.244.244',\n",
    "        '233.233.33.3'        \n",
    "    ])\n",
    "    \n",
    "    newset = set(newips)\n",
    "    assert testset == newset\n",
    "    print(newips)\n",
    "    print('Success!')\n",
    "except AssertionError:\n",
    "    print('Unfortunately thats not the correct list')"
   ]
  },
  {
   "cell_type": "markdown",
   "metadata": {},
   "source": [
    "<h2><font color=\"red\">Function Challenges 1</font></h2>"
   ]
  },
  {
   "cell_type": "markdown",
   "metadata": {},
   "source": [
    "<font color = 'blue'><b>Run the cell below.</b></font> You can then ignore the cell, it's just used to check your answer!"
   ]
  },
  {
   "cell_type": "code",
   "execution_count": null,
   "metadata": {
    "code_folding": [
     0,
     13,
     20
    ],
    "init_cell": true
   },
   "outputs": [],
   "source": [
    "def test_tax():\n",
    "    print('Checking the function runs')\n",
    "    tax_calculator(10,10)\n",
    "    print('Success!')\n",
    "    try:\n",
    "        print('Testing 1...')\n",
    "        assert tax_calculator(100,10) == 90\n",
    "        print('Success!')\n",
    "        print('Testing 2...')\n",
    "        assert tax_calculator(100,0) == 100\n",
    "        print('Success!')\n",
    "    except AssertionError:\n",
    "        print('The function did not satisfy one of the tests')\n",
    "def test_tax_default():\n",
    "    try:\n",
    "        print('Testing...')\n",
    "        assert tax_calculator(100) == 80\n",
    "        print('Success!')\n",
    "    except AssertionError:\n",
    "        print('The function did not satisfy the test')\n",
    "def test_private_ip():\n",
    "    print('Checking the function runs')\n",
    "    is_private_ip('0.0.0.0')\n",
    "    print('Success!')   \n",
    "    try:\n",
    "        print('Testing 10.0.0.1')\n",
    "        assert is_private_ip('10.0.0.1')\n",
    "        print('Success')\n",
    "        print('Testing 11.0.0.1')\n",
    "        assert not is_private_ip('11.0.0.1')\n",
    "        print('Success')\n",
    "        print('Testing 172.16.0.0')\n",
    "        assert is_private_ip('172.16.0.1')\n",
    "        print('Success')\n",
    "        print('Testing 255.255.255.255')\n",
    "        assert not is_private_ip('255.255.255.255')\n",
    "        print('Success')\n",
    "    except AssertionError:\n",
    "        print('The function did not satisfy one of the tests')"
   ]
  },
  {
   "cell_type": "markdown",
   "metadata": {},
   "source": [
    "1. I am concerned about correctly calculating my taxes. Write a function called **tax_calculator**\n",
    "\n",
    "Tax calculator should take two arguments, gross_salary and tax_rate. It should return my net salary.\n",
    "\n",
    "**Hint:** net = gross_salary * (1-(tax_rate/100))\n",
    "\n",
    "Make sure to test running your functions to make sure they work as you would expect and to gain experience calling your own functions."
   ]
  },
  {
   "cell_type": "code",
   "execution_count": null,
   "metadata": {
    "collapsed": true
   },
   "outputs": [],
   "source": [
    "# Your code goes here. Call you function with some test values to see if it works as expected\n",
    "# Once written run the cell and then run the cell below\n",
    "\n",
    "\n",
    "# Make sure to run your function with some test cases \n",
    "\n"
   ]
  },
  {
   "cell_type": "code",
   "execution_count": null,
   "metadata": {},
   "outputs": [],
   "source": [
    "# This cell runs the above function and tests a couple of inputs\n",
    "test_tax()"
   ]
  },
  {
   "cell_type": "markdown",
   "metadata": {},
   "source": [
    "<h2><font color=\"red\">Function Challenges 2</font></h2>"
   ]
  },
  {
   "cell_type": "markdown",
   "metadata": {},
   "source": [
    "1. Change your tax_calculator function created in Function Challenges 1 to take a default tax rate of 20 and then run the cell below"
   ]
  },
  {
   "cell_type": "code",
   "execution_count": null,
   "metadata": {
    "scrolled": true
   },
   "outputs": [],
   "source": [
    "test_tax_default()"
   ]
  },
  {
   "cell_type": "markdown",
   "metadata": {},
   "source": [
    "2. Write a function called **is_private_ip** that takes an ip and return **True** if the ip is private and **False** if the ip is public.\n",
    "\n",
    "**Note:** for the purposes of this exercise let us take private ips to be 10.x.x.x and 172.x.x.x"
   ]
  },
  {
   "cell_type": "code",
   "execution_count": null,
   "metadata": {
    "collapsed": true
   },
   "outputs": [],
   "source": [
    "# Your code goes here. Call you function with some test values to see if it works as expected\n",
    "# Once written run the cell and then run the cell below\n",
    "\n",
    "\n",
    "# Make sure to run your function with some test cases \n",
    "\n",
    "\n"
   ]
  },
  {
   "cell_type": "code",
   "execution_count": null,
   "metadata": {},
   "outputs": [],
   "source": [
    "# This cell runs the above function and tests a couple of inputs\n",
    "test_private_ip()"
   ]
  },
  {
   "cell_type": "markdown",
   "metadata": {},
   "source": [
    "3. Given a list of students exam scores (a list of lists), create a function to sort the scores based on a students **cumulative** score (descending please)"
   ]
  },
  {
   "cell_type": "code",
   "execution_count": null,
   "metadata": {},
   "outputs": [],
   "source": [
    "# Exam scores\n",
    "scores = [[1,2,58,34], [10,80,12,11], [15,15,15,15],[50,51,62,73]]\n",
    "\n",
    "# Your code goes here\n",
    "\n",
    "\n"
   ]
  },
  {
   "cell_type": "markdown",
   "metadata": {},
   "source": [
    "<h2><font color=\"red\">Dicts, Tuples & Sets Challenges 1</font></h2>"
   ]
  },
  {
   "cell_type": "markdown",
   "metadata": {},
   "source": [
    "1. This time we are going to use a function to parse a customer details record.  Your job is to provide the most appropriate 'return' statement, function call statement and then print statement (the bits you need to change are clearly signposted)"
   ]
  },
  {
   "cell_type": "code",
   "execution_count": null,
   "metadata": {
    "collapsed": true
   },
   "outputs": [],
   "source": [
    "def parseCustomer(customer):\n",
    "    '''function to split a customer details string\n",
    "       into component parts'''\n",
    "    \n",
    "    # we'll do the parsing for you\n",
    "    # though there is a hint or two contained within\n",
    "    name,address,phone = customer.split('|')\n",
    "    name = name.title()\n",
    "    address = address.title().split(', ')\n",
    "    address[1] = address[1].title()\n",
    "    address[2] = address[2].title()\n",
    "    address[3] = address[3].upper()\n",
    "    address = tuple(address)\n",
    "    phone = phone.replace('-','')\n",
    "    \n",
    "    # now return the parsed customer details name and address and phone\n",
    "    # YOUR RETURN STATEMENT HERE\n",
    "    \n",
    "\n",
    "\n",
    "# our raw customer\n",
    "customer = 'Jim bo|7, some street, Some town, xx470yy|01234-567890'\n",
    "\n",
    "# now call parse customer and print out name\\taddress\\tphone\n",
    "# think about your output formatting (particularly of address)\n",
    "\n",
    "# YOUR CODE FUNCTION CALL HERE\n",
    "\n",
    "# YOUR PRINT STATEMENT HERE\n"
   ]
  },
  {
   "cell_type": "markdown",
   "metadata": {},
   "source": [
    "2. Lets keep it simple, we've got a list of fruits - how many distinct type of fruit are there?\n",
    "\n",
    "**Hint:** Think about which data type can help remove duplicates."
   ]
  },
  {
   "cell_type": "code",
   "execution_count": null,
   "metadata": {
    "code_folding": [
     8,
     12
    ]
   },
   "outputs": [],
   "source": [
    "# input list of fruits you can assume they are all fruits\n",
    "fruits = ['banana','kiwi','grape','strawberry','tomato','apple','apple','peach','orange',\n",
    "          'pomegranite','grapefruit','blackberry','tomato','orange']\n",
    "\n",
    "# assign your answer to numfruits - can you do it all in one line?\n",
    "numfruits = \n",
    "\n",
    "# please ignore this section, just checking your answer\n",
    "try:\n",
    "    print(numfruits)\n",
    "    assert numfruits == 11\n",
    "    print('spot on')\n",
    "except:\n",
    "    print('Sorry thats not the right number')"
   ]
  },
  {
   "cell_type": "markdown",
   "metadata": {},
   "source": [
    "2. **BONUS** This is exactly the same but with a subtle twist.\n",
    "\n",
    "**Hint**: take a good look at the input, just in case."
   ]
  },
  {
   "cell_type": "code",
   "execution_count": null,
   "metadata": {
    "code_folding": [
     8,
     12
    ],
    "collapsed": true
   },
   "outputs": [],
   "source": [
    "# input list of fruits you can assume they are all fruits\n",
    "fruits = ['banana','kiwi','grape','strawberry','tomato','apple','apple','peach','Orange',\n",
    "          'pomegranite','grapefruit','blackberry','Tomato','orange']\n",
    "\n",
    "# assign your answer to numfruits - can you do it all in one line?\n",
    "\n",
    "\n",
    "# please ignore this section, just checking your answer\n",
    "try:\n",
    "    print(numfruits)\n",
    "    assert numfruits == 11\n",
    "    print('spot on')\n",
    "except:\n",
    "    print('Sorry thats not the right number')"
   ]
  },
  {
   "cell_type": "markdown",
   "metadata": {},
   "source": [
    "3. We've got a list of customer names and a list of employee names, who and how many are both employees and customers?\n",
    "\n",
    "**Hint**: we've been kind, you needn't worry about case sensitivity."
   ]
  },
  {
   "cell_type": "code",
   "execution_count": null,
   "metadata": {
    "code_folding": [
     11,
     19
    ],
    "collapsed": true
   },
   "outputs": [],
   "source": [
    "customers = ['Andrea Apple', 'Bob Banana', 'Karen Kiwi', 'Orla Orangepeel', 'Peter Pomegranite', 'Walter Watermelon',\n",
    "             'Adel Apricot', 'Randy Raisin', 'Terry Cherry Tomato', ]\n",
    "employees = ['Silvia Strawberry', 'Robert Raspberry', 'Bob Banana', 'Norma Nectarine', \n",
    "             'Gerty Grapefruit', 'Walter Watermelon', 'Terry Cherry Tomato', 'Dave theres always a Dave Date',\n",
    "             'Millie Melon']\n",
    "\n",
    "# ok, over to you - assign your answer to both\n",
    "\n",
    "both = \n",
    "\n",
    "# please ignore this section, just checking your answer\n",
    "try:\n",
    "    ans = set(['Bob Banana', 'Walter Watermelon', 'Terry Cherry Tomato'])\n",
    "    ans = {a.lower() for a in ans}\n",
    "    b = {a.lower() for a in both}\n",
    "    \n",
    "    assert len(b) == len(ans)\n",
    "    assert b == ans\n",
    "    print('spot on')\n",
    "except:\n",
    "    print('Sorry thats not the right number')"
   ]
  },
  {
   "cell_type": "markdown",
   "metadata": {},
   "source": [
    "<h2><font color=\"red\">Dicts, Tuples & Sets Challenges 2</font></h2>"
   ]
  },
  {
   "cell_type": "markdown",
   "metadata": {},
   "source": [
    "1. Lets re-visit our list of ipv4 addresses.  Using the most appropriate data structure(s) print out a list of each distinct ip along with a count of how often it ocurs, one entry on each line (don't worry about ordering - yet!).\n",
    "\n",
    "e.g.\n",
    "\n",
    "111.111.111.111 5\n",
    "\n",
    "222.222.222.222 7"
   ]
  },
  {
   "cell_type": "code",
   "execution_count": null,
   "metadata": {
    "collapsed": true
   },
   "outputs": [],
   "source": [
    "# our list of ip's, you can assume no zero padding\n",
    "ips = [\n",
    "    '89.2.45.89', '111.111.111.111', '20.20.20.20', '111.111.111.111', '10.10.10.10', '190.45.8.12',\n",
    "    '110.10.10.10', '18.18.0.1', '216.1.2.3', '225.15.87,3', '110.10.10.10', '20.20.20.20',\n",
    "    '190.45.8.12', '111.111.111.111', '20.20.20.20', '19.10.18.4', '20.20.20.20', '23.1.45.67'\n",
    "]\n",
    "\n",
    "# generate your counts\n",
    "\n",
    "\n",
    "# print out your output\n",
    "\n"
   ]
  },
  {
   "cell_type": "markdown",
   "metadata": {},
   "source": [
    "2. Print your frequency list sorted ascending by ip address"
   ]
  },
  {
   "cell_type": "code",
   "execution_count": null,
   "metadata": {
    "collapsed": true
   },
   "outputs": [],
   "source": [
    "# Your code goes here\n"
   ]
  },
  {
   "cell_type": "markdown",
   "metadata": {},
   "source": [
    "2. **BONUS** That's not really what we want, as a bonus exercise can you print out the list sorted descending by count (note: this is non trivial)"
   ]
  },
  {
   "cell_type": "code",
   "execution_count": null,
   "metadata": {
    "collapsed": true
   },
   "outputs": [],
   "source": [
    "# Hint: think about what you need to sort by\n",
    "# Hint 2: a list comprehension may help\n",
    "\n",
    "# Your code goes here\n",
    "\n",
    "\n"
   ]
  },
  {
   "cell_type": "markdown",
   "metadata": {},
   "source": [
    "3. This time we've got IP and port pairs.  Lets do the same thing, produce frequency counts of ip/port pairs (again don't worry about sorting).\n",
    "\n",
    "e.g.\n",
    "\n",
    "111.111.111.111 80 500\n",
    "\n",
    "222.222.222.222 8080 9\n",
    "\n",
    "111.111.111.111 443 100\n",
    "\n",
    "(don't worry about sorting this time)\n",
    "\n",
    "**Hint**: we might be setting you up for a fall!!   Remember dict keys must be of an immutable type"
   ]
  },
  {
   "cell_type": "code",
   "execution_count": null,
   "metadata": {
    "collapsed": true
   },
   "outputs": [],
   "source": [
    "# our input data is a list of lists\n",
    "ipports = [\n",
    "    ['89.2.45.89',80], ['111.111.111.111',8080], ['20.20.20.20',80], ['111.111.111.111',443], ['10.10.10.10',80], ['190.45.8.12',20],\n",
    "    ['110.10.10.10',80], ['18.18.0.1',23], ['216.1.2.3',80], ['225.15.87,3',8080], ['110.10.10.10',80], ['20.20.20.20',80],\n",
    "    ['190.45.8.12',443], ['111.111.111.111',443], ['20.20.20.20',8080], ['19.10.18.4',23], ['20.20.20.20',80], ['23.1.45.67',443]\n",
    "]\n",
    "\n",
    "# ok, calculate your frequencies\n",
    "\n",
    "\n",
    "    \n",
    "# now print your results\n",
    "# HINT: unpacking\n",
    "\n"
   ]
  }
 ],
 "metadata": {
  "gallery": {
   "commit": "e7c93c08-c708-49d3-9f2b-20eaf4efe37f",
   "filename": null,
   "gallery_url": "https://rolling-stock.coe.ic.gov.uk",
   "git_commit_id": "9161ab29a1d4f04fabe7ebb737bddde8a70bf370",
   "link": "6b3a9c77-041f-453e-9e06-bb0e290900d1",
   "staging_id": "30d89d1b-e402-42b5-b0f8-748b92b7ff5a",
   "uuid": "6b3a9c77-041f-453e-9e06-bb0e290900d1"
  },
  "kernelspec": {
   "display_name": "Python 3 (ipykernel)",
   "language": "python",
   "name": "python3"
  },
  "language_info": {
   "codemirror_mode": {
    "name": "ipython",
    "version": 3
   },
   "file_extension": ".py",
   "mimetype": "text/x-python",
   "name": "python",
   "nbconvert_exporter": "python",
   "pygments_lexer": "ipython3",
   "version": "3.9.5"
  },
  "toc": {
   "nav_menu": {},
   "number_sections": false,
   "sideBar": true,
   "skip_h1_title": false,
   "title_cell": "Table of Contents",
   "title_sidebar": "Contents",
   "toc_cell": false,
   "toc_position": {},
   "toc_section_display": true,
   "toc_window_display": false
  }
 },
 "nbformat": 4,
 "nbformat_minor": 2
}
