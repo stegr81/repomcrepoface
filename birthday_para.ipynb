{
 "cells": [
  {
   "cell_type": "code",
   "execution_count": 17,
   "metadata": {},
   "outputs": [],
   "source": [
    "import math"
   ]
  },
  {
   "attachments": {},
   "cell_type": "markdown",
   "metadata": {},
   "source": [
    "binomial coefficient\n",
    "\n",
    "n!/k!(n-k)!\n",
    "\n",
    "gives us the number of possible ways of choosing 2 people from 23"
   ]
  },
  {
   "cell_type": "code",
   "execution_count": 18,
   "metadata": {},
   "outputs": [
    {
     "name": "stdout",
     "output_type": "stream",
     "text": [
      "253.0\n"
     ]
    }
   ],
   "source": [
    "bi_coeff = math.factorial(23)/(math.factorial(2)*math.factorial(23-2))\n",
    "print(bi_coeff)"
   ]
  },
  {
   "attachments": {},
   "cell_type": "markdown",
   "metadata": {},
   "source": [
    "binomial formula takes this and multiplies it\n",
    "\n",
    "p^k(1-p)^n-k"
   ]
  },
  {
   "cell_type": "code",
   "execution_count": 8,
   "metadata": {},
   "outputs": [
    {
     "name": "stdout",
     "output_type": "stream",
     "text": [
      "0.1792725084360388\n"
     ]
    }
   ],
   "source": [
    "p = bi_coeff * (1/365)**2 * (364/365)**(23-2)\n",
    "print(p*100)"
   ]
  },
  {
   "cell_type": "code",
   "execution_count": 7,
   "metadata": {},
   "outputs": [
    {
     "name": "stdout",
     "output_type": "stream",
     "text": [
      "[0.0017927250843603883, 4.9250689130779896e-06, 1.3530409101862608e-08, 3.7171453576545635e-11, 1.0211937795754293e-13, 2.8054774164160145e-16, 7.707355539604436e-19, 2.1174053680231967e-21, 5.817047714349442e-24, 1.5980900314146818e-26, 4.390357229161213e-29, 1.2061420959234105e-31, 3.313577186602776e-34, 9.103234029128505e-37, 2.500888469540798e-39, 6.870572718518676e-42, 1.8875199776150207e-44, 5.18549444399731e-47, 1.4245863857135467e-49, 3.913698861850403e-52, 1.075191995013847e-54, 2.9538241621259533e-57]\n"
     ]
    },
    {
     "data": {
      "text/plain": [
       "0.17976637209564228"
      ]
     },
     "execution_count": 7,
     "metadata": {},
     "output_type": "execute_result"
    }
   ],
   "source": [
    "total = []\n",
    "for k in range(2,24):\n",
    "    p = bi_coeff * (1/365)**k * (364/365)**(23-k)\n",
    "    total.append(p)\n",
    "print(total)\n",
    "sum(total)*100"
   ]
  },
  {
   "attachments": {},
   "cell_type": "markdown",
   "metadata": {},
   "source": [
    "using the multiplication rule\n",
    "\n",
    "P(A)*P(B)*P(C)....."
   ]
  },
  {
   "cell_type": "code",
   "execution_count": 19,
   "metadata": {},
   "outputs": [
    {
     "name": "stdout",
     "output_type": "stream",
     "text": [
      "50.729723432398565\n"
     ]
    }
   ],
   "source": [
    "n = 23\n",
    "P_no_shared = [(365-i)/365 for i in range(n)]\n",
    "print((1 - math.prod(P_no_shared))*100)"
   ]
  }
 ],
 "metadata": {
  "kernelspec": {
   "display_name": "Python 3",
   "language": "python",
   "name": "python3"
  },
  "language_info": {
   "codemirror_mode": {
    "name": "ipython",
    "version": 3
   },
   "file_extension": ".py",
   "mimetype": "text/x-python",
   "name": "python",
   "nbconvert_exporter": "python",
   "pygments_lexer": "ipython3",
   "version": "3.10.7"
  },
  "orig_nbformat": 4
 },
 "nbformat": 4,
 "nbformat_minor": 2
}
