{
 "cells": [
  {
   "cell_type": "markdown",
   "id": "d4445c42",
   "metadata": {},
   "source": [
    "<center><h1>Live Example Exercise Notebook</h1><p>\n",
    "<center>This notebook contains examples of code to go with some slides. You can run the cells, but you won't be able to edit them"
   ]
  },
  {
   "cell_type": "markdown",
   "id": "4823fd54",
   "metadata": {
    "editable": false
   },
   "source": [
    "<h2>Strings Mutability Example</h2>"
   ]
  },
  {
   "cell_type": "code",
   "execution_count": 6,
   "id": "55f7df4d",
   "metadata": {
    "editable": false
   },
   "outputs": [
    {
     "name": "stdout",
     "output_type": "stream",
     "text": [
      "hello\n"
     ]
    }
   ],
   "source": [
    "s = 'hello'\n",
    "print('hello')"
   ]
  },
  {
   "cell_type": "code",
   "execution_count": 7,
   "id": "9ff959ca",
   "metadata": {
    "editable": false
   },
   "outputs": [
    {
     "data": {
      "text/plain": [
       "'hellohello'"
      ]
     },
     "execution_count": 7,
     "metadata": {},
     "output_type": "execute_result"
    }
   ],
   "source": [
    "s + s"
   ]
  },
  {
   "cell_type": "code",
   "execution_count": 8,
   "id": "fb1a6588",
   "metadata": {
    "editable": false
   },
   "outputs": [
    {
     "data": {
      "text/plain": [
       "'hellohellohello'"
      ]
     },
     "execution_count": 8,
     "metadata": {},
     "output_type": "execute_result"
    }
   ],
   "source": [
    "s * 3"
   ]
  },
  {
   "cell_type": "code",
   "execution_count": 9,
   "id": "b79b1ea4",
   "metadata": {
    "editable": false
   },
   "outputs": [
    {
     "name": "stdout",
     "output_type": "stream",
     "text": [
      "hello\n"
     ]
    }
   ],
   "source": [
    "print(s)"
   ]
  },
  {
   "cell_type": "markdown",
   "id": "3e0f86a5",
   "metadata": {
    "editable": false
   },
   "source": [
    "Strings are <font color=\"red\">immutable</font>, which means they can't be changed 'in place'.\n",
    "\n",
    "To change the value in the variable we must define the variable anew, by giving it a new memory assignment. You can use the same name, but you have to go through the process of assignment."
   ]
  },
  {
   "cell_type": "code",
   "execution_count": 10,
   "id": "ece599b1",
   "metadata": {
    "ediable": false
   },
   "outputs": [
    {
     "name": "stdout",
     "output_type": "stream",
     "text": [
      "hellohellohello\n"
     ]
    }
   ],
   "source": [
    "s = s * 3\n",
    "print(s)"
   ]
  },
  {
   "cell_type": "markdown",
   "id": "5194b011",
   "metadata": {
    "editable": false
   },
   "source": [
    "<h2>String Slicing</h2>"
   ]
  },
  {
   "cell_type": "code",
   "execution_count": 11,
   "id": "c402f47d",
   "metadata": {
    "editable": false
   },
   "outputs": [
    {
     "name": "stdout",
     "output_type": "stream",
     "text": [
      "hello\n",
      "hel\n",
      "hlo\n"
     ]
    }
   ],
   "source": [
    "s = 'hello'\n",
    "print(s[0:]) #returns the string from character 0 to the end of the string\n",
    "print(s[1:3]) #returns the string from the 1th character up to, but not including, the 3th character\n",
    "print(s[0:5:2]) #returns the string from the 0th character up to, but not including the 5th character, in steps of 2"
   ]
  },
  {
   "cell_type": "code",
   "execution_count": 12,
   "id": "a7534f21",
   "metadata": {
    "editable": false
   },
   "outputs": [
    {
     "name": "stdout",
     "output_type": "stream",
     "text": [
      "hlo\n",
      "olleh\n"
     ]
    }
   ],
   "source": [
    "#You may also see some of the following methods\n",
    "print(s[::2]) #This will return the whole string in steps of 2.\n",
    "print(s[::-1]) #Equally, this will do the same, but in steps of -1, so you'll get the reverse of the string"
   ]
  }
 ],
 "metadata": {
  "celltoolbar": "Edit Metadata",
  "kernelspec": {
   "display_name": "Python 3 (ipykernel)",
   "language": "python",
   "name": "python3"
  },
  "language_info": {
   "codemirror_mode": {
    "name": "ipython",
    "version": 3
   },
   "file_extension": ".py",
   "mimetype": "text/x-python",
   "name": "python",
   "nbconvert_exporter": "python",
   "pygments_lexer": "ipython3",
   "version": "3.9.12"
  }
 },
 "nbformat": 4,
 "nbformat_minor": 5
}
