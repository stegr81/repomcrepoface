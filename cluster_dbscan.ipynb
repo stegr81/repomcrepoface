{
 "cells": [
  {
   "cell_type": "code",
   "execution_count": 4,
   "id": "c28d0647-f25a-4773-86b5-f903792397f1",
   "metadata": {},
   "outputs": [],
   "source": [
    "from faker import Faker\n",
    "fake=Faker()"
   ]
  },
  {
   "cell_type": "code",
   "execution_count": 7,
   "id": "3b941026-cecd-4a4c-bcf6-db8047689938",
   "metadata": {},
   "outputs": [],
   "source": [
    "import pandas as pd, numpy as np, matplotlib as plt\n",
    "from sklearn.cluster import DBSCAN\n",
    "from geopy.distance import great_circle\n",
    "from shapely.geometry import MultiPoint\n",
    "import plotly.graph_objects as go"
   ]
  },
  {
   "cell_type": "code",
   "execution_count": 8,
   "id": "a7b6cc01-de28-4e49-9f90-6d17fcfd246a",
   "metadata": {},
   "outputs": [],
   "source": [
    "kms_per_radian = 6371.0088 \n",
    "epsilon = 2.0 / kms_per_radian #max distance points can be apart to be considered a cluster/epsilon and coordinates are converted to radians because that's what scikit-learn's haversine method uses"
   ]
  },
  {
   "cell_type": "code",
   "execution_count": 9,
   "id": "f6c66cf9-01ad-4aaf-9d1d-4abb317b4a67",
   "metadata": {},
   "outputs": [],
   "source": [
    "fake_data = []\n",
    "for i in range(1000):\n",
    "    fake_data.append(fake.local_latlng())"
   ]
  },
  {
   "cell_type": "code",
   "execution_count": 10,
   "id": "acd48509-e2f7-475c-a812-a4d6ddeb439b",
   "metadata": {},
   "outputs": [],
   "source": [
    "df = pd.DataFrame(data = fake_data, columns = ['Lat','Lon','Local Name','Nation','Metro Area'])"
   ]
  },
  {
   "cell_type": "code",
   "execution_count": 11,
   "id": "c14fd3e2-7cdf-43d4-9ef4-ea22f69f18b0",
   "metadata": {},
   "outputs": [],
   "source": [
    "df['Lon'] = pd.to_numeric(df['Lon'],downcast='float')"
   ]
  },
  {
   "cell_type": "code",
   "execution_count": 12,
   "id": "59874393-465d-4e2d-8d60-7513b1ea78ed",
   "metadata": {},
   "outputs": [
    {
     "data": {
      "text/html": [
       "<div>\n",
       "<style scoped>\n",
       "    .dataframe tbody tr th:only-of-type {\n",
       "        vertical-align: middle;\n",
       "    }\n",
       "\n",
       "    .dataframe tbody tr th {\n",
       "        vertical-align: top;\n",
       "    }\n",
       "\n",
       "    .dataframe thead th {\n",
       "        text-align: right;\n",
       "    }\n",
       "</style>\n",
       "<table border=\"1\" class=\"dataframe\">\n",
       "  <thead>\n",
       "    <tr style=\"text-align: right;\">\n",
       "      <th></th>\n",
       "      <th>Lat</th>\n",
       "      <th>Lon</th>\n",
       "      <th>Local Name</th>\n",
       "      <th>Nation</th>\n",
       "      <th>Metro Area</th>\n",
       "    </tr>\n",
       "  </thead>\n",
       "  <tbody>\n",
       "    <tr>\n",
       "      <th>0</th>\n",
       "      <td>41.14676</td>\n",
       "      <td>-73.494843</td>\n",
       "      <td>New Canaan</td>\n",
       "      <td>US</td>\n",
       "      <td>America/New_York</td>\n",
       "    </tr>\n",
       "    <tr>\n",
       "      <th>1</th>\n",
       "      <td>33.98154</td>\n",
       "      <td>-81.236214</td>\n",
       "      <td>Lexington</td>\n",
       "      <td>US</td>\n",
       "      <td>America/New_York</td>\n",
       "    </tr>\n",
       "    <tr>\n",
       "      <th>2</th>\n",
       "      <td>41.14676</td>\n",
       "      <td>-73.494843</td>\n",
       "      <td>New Canaan</td>\n",
       "      <td>US</td>\n",
       "      <td>America/New_York</td>\n",
       "    </tr>\n",
       "    <tr>\n",
       "      <th>3</th>\n",
       "      <td>29.53885</td>\n",
       "      <td>-95.447441</td>\n",
       "      <td>Fresno</td>\n",
       "      <td>US</td>\n",
       "      <td>America/Chicago</td>\n",
       "    </tr>\n",
       "    <tr>\n",
       "      <th>4</th>\n",
       "      <td>41.54566</td>\n",
       "      <td>-71.291443</td>\n",
       "      <td>Middletown</td>\n",
       "      <td>US</td>\n",
       "      <td>America/New_York</td>\n",
       "    </tr>\n",
       "    <tr>\n",
       "      <th>5</th>\n",
       "      <td>41.55838</td>\n",
       "      <td>-81.569290</td>\n",
       "      <td>Collinwood</td>\n",
       "      <td>US</td>\n",
       "      <td>America/New_York</td>\n",
       "    </tr>\n",
       "    <tr>\n",
       "      <th>6</th>\n",
       "      <td>42.16808</td>\n",
       "      <td>-88.428139</td>\n",
       "      <td>Huntley</td>\n",
       "      <td>US</td>\n",
       "      <td>America/Chicago</td>\n",
       "    </tr>\n",
       "    <tr>\n",
       "      <th>7</th>\n",
       "      <td>42.30865</td>\n",
       "      <td>-83.482162</td>\n",
       "      <td>Canton</td>\n",
       "      <td>US</td>\n",
       "      <td>America/Detroit</td>\n",
       "    </tr>\n",
       "    <tr>\n",
       "      <th>8</th>\n",
       "      <td>39.09112</td>\n",
       "      <td>-94.415512</td>\n",
       "      <td>Independence</td>\n",
       "      <td>US</td>\n",
       "      <td>America/Chicago</td>\n",
       "    </tr>\n",
       "    <tr>\n",
       "      <th>9</th>\n",
       "      <td>42.58342</td>\n",
       "      <td>-71.802299</td>\n",
       "      <td>Fitchburg</td>\n",
       "      <td>US</td>\n",
       "      <td>America/New_York</td>\n",
       "    </tr>\n",
       "    <tr>\n",
       "      <th>10</th>\n",
       "      <td>42.7392</td>\n",
       "      <td>-84.620811</td>\n",
       "      <td>Waverly</td>\n",
       "      <td>US</td>\n",
       "      <td>America/Detroit</td>\n",
       "    </tr>\n",
       "    <tr>\n",
       "      <th>11</th>\n",
       "      <td>30.5427</td>\n",
       "      <td>-97.546669</td>\n",
       "      <td>Hutto</td>\n",
       "      <td>US</td>\n",
       "      <td>America/Chicago</td>\n",
       "    </tr>\n",
       "    <tr>\n",
       "      <th>12</th>\n",
       "      <td>35.74788</td>\n",
       "      <td>-95.369690</td>\n",
       "      <td>Muskogee</td>\n",
       "      <td>US</td>\n",
       "      <td>America/Chicago</td>\n",
       "    </tr>\n",
       "    <tr>\n",
       "      <th>13</th>\n",
       "      <td>34.06635</td>\n",
       "      <td>-84.678368</td>\n",
       "      <td>Acworth</td>\n",
       "      <td>US</td>\n",
       "      <td>America/New_York</td>\n",
       "    </tr>\n",
       "    <tr>\n",
       "      <th>14</th>\n",
       "      <td>43.16547</td>\n",
       "      <td>-77.700661</td>\n",
       "      <td>Gates-North Gates</td>\n",
       "      <td>US</td>\n",
       "      <td>America/New_York</td>\n",
       "    </tr>\n",
       "  </tbody>\n",
       "</table>\n",
       "</div>"
      ],
      "text/plain": [
       "         Lat        Lon         Local Name Nation        Metro Area\n",
       "0   41.14676 -73.494843         New Canaan     US  America/New_York\n",
       "1   33.98154 -81.236214          Lexington     US  America/New_York\n",
       "2   41.14676 -73.494843         New Canaan     US  America/New_York\n",
       "3   29.53885 -95.447441             Fresno     US   America/Chicago\n",
       "4   41.54566 -71.291443         Middletown     US  America/New_York\n",
       "5   41.55838 -81.569290         Collinwood     US  America/New_York\n",
       "6   42.16808 -88.428139            Huntley     US   America/Chicago\n",
       "7   42.30865 -83.482162             Canton     US   America/Detroit\n",
       "8   39.09112 -94.415512       Independence     US   America/Chicago\n",
       "9   42.58342 -71.802299          Fitchburg     US  America/New_York\n",
       "10   42.7392 -84.620811            Waverly     US   America/Detroit\n",
       "11   30.5427 -97.546669              Hutto     US   America/Chicago\n",
       "12  35.74788 -95.369690           Muskogee     US   America/Chicago\n",
       "13  34.06635 -84.678368            Acworth     US  America/New_York\n",
       "14  43.16547 -77.700661  Gates-North Gates     US  America/New_York"
      ]
     },
     "execution_count": 12,
     "metadata": {},
     "output_type": "execute_result"
    }
   ],
   "source": [
    "df.head(15)"
   ]
  },
  {
   "cell_type": "code",
   "execution_count": null,
   "id": "4db5f72e-5e0e-4a48-9f1f-b71c6dfdd9ad",
   "metadata": {},
   "outputs": [],
   "source": [
    "coords = df[['Lat','Lon']].to_numpy()"
   ]
  },
  {
   "cell_type": "code",
   "execution_count": null,
   "id": "942670e3-a5ea-4144-b608-eb61224d8cc5",
   "metadata": {},
   "outputs": [],
   "source": [
    "db = DBSCAN(eps=epsilon, min_samples=1, algorithm='ball_tree', metric='haversine').fit(np.radians(coords))\n",
    "cluster_labels = db.labels_\n",
    "num_clusters = len(set(cluster_labels))"
   ]
  },
  {
   "cell_type": "code",
   "execution_count": null,
   "id": "f216d03c-1035-4d16-9800-d16c408e0a97",
   "metadata": {},
   "outputs": [],
   "source": [
    "clusters = pd.Series([coords[cluster_labels == n] for n in range(num_clusters)])\n",
    "print('Number of clusters: {}'.format(num_clusters))"
   ]
  },
  {
   "cell_type": "code",
   "execution_count": null,
   "id": "109a2a8b-6498-44e8-ab91-5f27ad00c222",
   "metadata": {},
   "outputs": [],
   "source": [
    "clusters"
   ]
  },
  {
   "cell_type": "code",
   "execution_count": null,
   "id": "3a6a366f-3a79-4ffd-8e32-8c0c20ffe20b",
   "metadata": {},
   "outputs": [],
   "source": [
    "fig = go.Figure()\n",
    "\n",
    "#Scattergeo(\n",
    "#locationmode = 'USA-states',\n",
    "#lon=df['Lon'],\n",
    "#lat=df['Lat'],\n",
    "#mode='markers',\n",
    "#marker = dict(\n",
    "#            size = 8,\n",
    "#            opacity = 0.8,\n",
    "#            reversescale = True,\n",
    "#            autocolorscale = False,\n",
    "#            symbol = 'square',\n",
    "#            line = dict(\n",
    "#                width=1,\n",
    "#                color='rgba(102, 102, 102)'\n",
    "#            ),\n",
    "#colorscale='Blues',\n",
    "#)))\n",
    "fig.show()"
   ]
  },
  {
   "cell_type": "code",
   "execution_count": null,
   "id": "c6f79220-98cf-4333-ada0-066b7e42dca3",
   "metadata": {},
   "outputs": [],
   "source": [
    "#this example includes the hull convex to calculate the area covered by the polygon\n",
    "\n",
    "from scipy.spatial import ConvexHull\n",
    "import folium\n",
    "\n",
    "m = folium.Map(location=[43.6, 1.43], zoom_start=13)\n",
    "\n",
    "pts = [\n",
    "[43.601795137863135, 1.451673278566412],\n",
    "[43.61095574264419, 1.437239509310642],\n",
    "[43.60999839038903, 1.45630473303456],\n",
    "[43.60607351937904, 1.438762676051137],\n",
    "[43.59725521090158, 1.444569790831369],\n",
    "[43.6076281683173, 1.451991362348086]\n",
    "]\n",
    "\n",
    "b = [pts[i] for i in ConvexHull(pts).vertices]\n",
    "\n",
    "folium.features.PolygonMarker(locations=b, color='#FF0000', fill_color='blue', weight=5).add_to(m)"
   ]
  },
  {
   "cell_type": "code",
   "execution_count": 20,
   "id": "573ec91c-ed2d-4c9c-95e6-658d2e95d4c6",
   "metadata": {},
   "outputs": [],
   "source": [
    "#compute the eps for dbscan using NearestNeighbours\n",
    "\n",
    "from sklearn.neighbors import NearestNeighbors\n",
    "\n",
    "nearest_neighbors = NearestNeighbors(n_neighbors=5)\n",
    "neighbors = nearest_neighbors.fit(df[['Lat','Lon']])\n",
    "distances,indices = neighbors.kneighbors(df[['Lat','Lon']])\n",
    "\n",
    "distances = np.sort(distances[:,4],axis=0) #this value generally seems to be one less that n_neighbors\n",
    "\n"
   ]
  },
  {
   "cell_type": "code",
   "execution_count": 22,
   "id": "b22c9d51",
   "metadata": {},
   "outputs": [
    {
     "name": "stdout",
     "output_type": "stream",
     "text": [
      "0.0\n"
     ]
    },
    {
     "data": {
      "text/plain": [
       "<Figure size 1080x1080 with 0 Axes>"
      ]
     },
     "metadata": {},
     "output_type": "display_data"
    },
    {
     "data": {
      "image/png": "[encoded data removed]",
      "text/plain": [
       "<Figure size 432x432 with 1 Axes>"
      ]
     },
     "metadata": {
      "needs_background": "light"
     },
     "output_type": "display_data"
    }
   ],
   "source": [
    "from kneed import KneeLocator\n",
    "import matplotlib.pyplot as plt\n",
    "\n",
    "i = np.arange(len(distances))\n",
    "knee = KneeLocator(i,distances, S=1, curve='convex', direction='increasing', interp_method='polynomial')\n",
    "\n",
    "fig=plt.figure(figsize=(15,15))\n",
    "\n",
    "knee.plot_knee()\n",
    "plt.xlabel('Points')\n",
    "plt.ylabel('Distance')\n",
    "\n",
    "print(distances[knee.knee])"
   ]
  }
 ],
 "metadata": {
  "kernelspec": {
   "display_name": "Python 3",
   "language": "python",
   "name": "python3"
  },
  "language_info": {
   "codemirror_mode": {
    "name": "ipython",
    "version": 3
   },
   "file_extension": ".py",
   "mimetype": "text/x-python",
   "name": "python",
   "nbconvert_exporter": "python",
   "pygments_lexer": "ipython3",
   "version": "3.8.8"
  }
 },
 "nbformat": 4,
 "nbformat_minor": 5
}
