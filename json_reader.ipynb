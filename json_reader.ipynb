{
 "cells": [
  {
   "cell_type": "code",
   "execution_count": 1,
   "metadata": {},
   "outputs": [],
   "source": [
    "import json\n",
    "import re\n",
    "import xlsxwriter\n",
    "import ipywidgets"
   ]
  },
  {
   "cell_type": "code",
   "execution_count": 73,
   "metadata": {},
   "outputs": [
    {
     "data": {
      "application/vnd.jupyter.widget-view+json": {
       "model_id": "c742f31549364abab47fe6c526bfe256",
       "version_major": 2,
       "version_minor": 0
      },
      "text/plain": [
       "Textarea(value='')"
      ]
     },
     "metadata": {},
     "output_type": "display_data"
    }
   ],
   "source": [
    "area = ipywidgets.widgets.Textarea(height=\"400px\", width=\"auto\")\n",
    "display(area)"
   ]
  },
  {
   "cell_type": "code",
   "execution_count": 55,
   "metadata": {},
   "outputs": [],
   "source": [
    "arraytest=[\n",
    "  {\n",
    "    \"name\": \"Molecule Man\",\n",
    "    \"age\": 29,\n",
    "    \"secretIdentity\": \"Dan Jukes\",\n",
    "    \"powers\": [\"Radiation resistance\", \"Turning tiny\", \"Radiation blast\"]\n",
    "  },\n",
    "  {\n",
    "    \"name\": \"Madame Uppercut\",\n",
    "    \"age\": 39,\n",
    "    \"secretIdentity\": \"Jane Wilson\",\n",
    "    \"powers\": [\n",
    "      \"Million tonne punch\",\n",
    "      \"Damage resistance\",\n",
    "      \"Superhuman reflexes\"\n",
    "    ]\n",
    "  }\n",
    "]\n"
   ]
  },
  {
   "cell_type": "code",
   "execution_count": 57,
   "metadata": {},
   "outputs": [],
   "source": [
    "nest = {\"associatedDrug\": {\n",
    "                \"name\":\"asprin\",\n",
    "                \"dose\":\"\",\n",
    "                \"strength\":\"500 mg\"\n",
    "          }\n",
    "}"
   ]
  },
  {
   "cell_type": "code",
   "execution_count": 74,
   "metadata": {},
   "outputs": [],
   "source": [
    "def validate(json_):\n",
    "    if isinstance(json_, list):\n",
    "        try:\n",
    "            x = json.dumps(json_)\n",
    "            return True, \"array\" #some indicator of parsing\n",
    "        except:\n",
    "            print(\"Not a valid JSON\")\n",
    "            return False\n",
    "    \n",
    "    space_ = re.compile('^{\".*\":\".*\"} {')\n",
    "    re.match(space_,json_)\n",
    "    if space_:\n",
    "        return True,'space' #indicator\n",
    "    \n",
    "    newline_ = re.compile('^{\".*\":\".*\"}\\n{')\n",
    "    re.match(newline_,json_)\n",
    "    if newline_:\n",
    "        return True,'line' #indicator\n",
    "\n",
    "    nest_ = re.compile('^{\".*\": {')\n",
    "    re.match(nest_,area.value)\n",
    "    if nest_:\n",
    "        return True,'nest'\n"
   ]
  },
  {
   "cell_type": "code",
   "execution_count": 75,
   "metadata": {},
   "outputs": [
    {
     "data": {
      "text/plain": [
       "(True, 'space')"
      ]
     },
     "execution_count": 75,
     "metadata": {},
     "output_type": "execute_result"
    }
   ],
   "source": [
    "validate(area.value)"
   ]
  },
  {
   "cell_type": "code",
   "execution_count": 45,
   "metadata": {},
   "outputs": [],
   "source": [
    "data = json.loads(json.dumps(test))"
   ]
  },
  {
   "cell_type": "code",
   "execution_count": 77,
   "metadata": {},
   "outputs": [
    {
     "data": {
      "text/plain": [
       "dict"
      ]
     },
     "execution_count": 77,
     "metadata": {},
     "output_type": "execute_result"
    }
   ],
   "source": [
    "type(data[0])"
   ]
  }
 ],
 "metadata": {
  "kernelspec": {
   "display_name": "Python 3",
   "language": "python",
   "name": "python3"
  },
  "language_info": {
   "codemirror_mode": {
    "name": "ipython",
    "version": 3
   },
   "file_extension": ".py",
   "mimetype": "text/x-python",
   "name": "python",
   "nbconvert_exporter": "python",
   "pygments_lexer": "ipython3",
   "version": "3.10.7"
  },
  "orig_nbformat": 4
 },
 "nbformat": 4,
 "nbformat_minor": 2
}
