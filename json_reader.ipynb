{
 "cells": [
  {
   "cell_type": "code",
   "execution_count": null,
   "metadata": {},
   "outputs": [],
   "source": [
    "import json\n",
    "import re\n",
    "import xlsxwriter\n",
    "import ipywidgets"
   ]
  },
  {
   "cell_type": "code",
   "execution_count": null,
   "metadata": {},
   "outputs": [],
   "source": [
    "area = ipywidgets.widgets.Textarea(height=\"auto\", width=\"auto\")\n",
    "display(area)"
   ]
  },
  {
   "cell_type": "code",
   "execution_count": null,
   "metadata": {},
   "outputs": [],
   "source": [
    "test = {\"key\":\"value\"} {\"test\":\"test\"}"
   ]
  },
  {
   "cell_type": "code",
   "execution_count": null,
   "metadata": {},
   "outputs": [],
   "source": [
    "test=[\n",
    "  {\n",
    "    \"name\": \"Molecule Man\",\n",
    "    \"age\": 29,\n",
    "    \"secretIdentity\": \"Dan Jukes\",\n",
    "    \"powers\": [\"Radiation resistance\", \"Turning tiny\", \"Radiation blast\"]\n",
    "  },\n",
    "  {\n",
    "    \"name\": \"Madame Uppercut\",\n",
    "    \"age\": 39,\n",
    "    \"secretIdentity\": \"Jane Wilson\",\n",
    "    \"powers\": [\n",
    "      \"Million tonne punch\",\n",
    "      \"Damage resistance\",\n",
    "      \"Superhuman reflexes\"\n",
    "    ]\n",
    "  }\n",
    "]\n"
   ]
  },
  {
   "cell_type": "code",
   "execution_count": null,
   "metadata": {},
   "outputs": [],
   "source": [
    "def validate(json_):\n",
    "    if isinstance(json_, list):\n",
    "        try:\n",
    "            x = json.dumps(json_)\n",
    "            return True #some indicator of parsing\n",
    "        except:\n",
    "            print(\"Not a valid JSON\")\n",
    "            return False\n",
    "    re.compile('^{\".*\":\".*\"} {')\n"
   ]
  },
  {
   "cell_type": "code",
   "execution_count": null,
   "metadata": {},
   "outputs": [],
   "source": [
    "space_ = re.compile('^{\".*\":\".*\"} {')\n",
    "re.match(space_,test)"
   ]
  },
  {
   "cell_type": "code",
   "execution_count": null,
   "metadata": {},
   "outputs": [],
   "source": [
    "validate(test)"
   ]
  }
 ],
 "metadata": {
  "kernelspec": {
   "display_name": "Python 3",
   "language": "python",
   "name": "python3"
  },
  "language_info": {
   "codemirror_mode": {
    "name": "ipython",
    "version": 3
   },
   "file_extension": ".py",
   "mimetype": "text/x-python",
   "name": "python",
   "nbconvert_exporter": "python",
   "pygments_lexer": "ipython3",
   "version": "3.10.7"
  },
  "orig_nbformat": 4
 },
 "nbformat": 4,
 "nbformat_minor": 2
}
